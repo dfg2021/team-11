{
 "cells": [
  {
   "cell_type": "code",
   "execution_count": 1,
   "id": "c7c79781",
   "metadata": {},
   "outputs": [],
   "source": [
    "import pandas as pd\n",
    "Goal4 = pd.read_excel('../shared_data_read_only/Goal4.xlsx')"
   ]
  },
  {
   "cell_type": "markdown",
   "id": "1c128b08",
   "metadata": {},
   "source": [
    "## Filter and work on the country of focus\n",
    "\n",
    "#### These countries can be spelt differently sometimes in the dataset (Example Congo Dem. Rep. can also be spelt out as Congo Democratic Republic)"
   ]
  },
  {
   "cell_type": "code",
   "execution_count": 2,
   "id": "33e8ec0f",
   "metadata": {},
   "outputs": [],
   "source": [
    "#Country of focus\n",
    "countries = ['Afghanistan', 'Albania', 'Algeria', 'Angola', 'Antigua and Barbuda', 'Argentina', 'Armenia', 'Azerbaijan', 'Bangladesh', 'Belarus', 'Belize', 'Benin', 'Bhutan','Bolivia', 'Bosnia and Herzegovina', 'Botswana', 'Brazil', 'Bulgaria', 'Burkina Faso', 'Burundi', 'Cabo Verde', 'Cambodia', 'Cameroon', 'Central African Republic', 'Chad', 'Chile', 'China', 'Colombia', 'Comoros', 'Congo','Congo, Democratic Republic', 'Costa Rica', 'Croatia', \"Côte d'Ivoire\", 'Djibouti', 'Dominica', 'Dominican Republic', 'Ecuador', 'Egypt', 'El Salvador', 'Equatorial Guinea', 'Eritrea', 'Eswatini', 'Ethiopia', 'Fiji', 'Gabon', 'Gambia', 'Georgia', 'Ghana', 'Grenada', 'Guatemala', 'Guinea', 'Guinea-Bissau', 'Guyana', 'Haiti', 'Honduras', 'India', 'Indonesia', 'Iran (Islamic Republic of)', 'Iraq', 'Jamaica', 'Jordan', 'Kazakhstan', 'Kenya', 'Kiribati', 'Kosovo', 'Kyrgyzstan', \"Lao People's Democratic Republic\", 'Lebanon', 'Lesotho', 'Liberia', 'Libya', 'Madagascar', 'Malawi', 'Malaysia', 'Maldives', 'Mali', 'Marshall Islands', 'Mauritania', 'Mauritius', 'Mexico', 'Micronesia (Federated States of)','Moldova', 'Mongolia', 'Montenegro', 'Morocco', 'Mozambique', 'Myanmar', 'Namibia', 'Nauru', 'Nepal', 'Nicaragua', 'Niger', 'Nigeria', 'North Macedonia', 'Pakistan', 'Palau', 'Panama', 'Papua New Guinea', 'Paraguay', 'Peru', 'Philippines', 'Poland', 'Romania', 'Russian Federation', 'Rwanda', 'Saint Kitts and Nevis', 'Saint Lucia', 'Saint Vincent and the Grenadines', 'Samoa', 'Sao Tome and Principe', 'Senegal', 'Serbia', 'Seychelles', 'Sierra Leone', 'Solomon Islands', 'Somalia', 'South Africa', 'South Sudan', 'Sri Lanka', 'Sudan', 'Suriname', 'Syrian Arab Republic', 'Tajikistan', 'Thailand', 'Timor-Leste', 'Togo', 'Tonga', 'Trinidad and Tobago', 'Tunisia', 'Turkey', 'Turkmenistan', 'Tuvalu', 'Uganda', 'Ukraine', 'United Republic of Tanzania', 'Uruguay', 'Uzbekistan', 'Vanuatu','Venezuela', 'Vietnam', 'Yemen', 'Zambia', 'Zimbabwe']"
   ]
  },
  {
   "cell_type": "code",
   "execution_count": 3,
   "id": "dd396c5a",
   "metadata": {},
   "outputs": [
    {
     "name": "stdout",
     "output_type": "stream",
     "text": [
      "0 Afghanistan\n",
      "1 Albania\n",
      "2 Algeria\n",
      "3 Angola\n",
      "4 Antigua and Barbuda\n",
      "5 Argentina\n",
      "6 Armenia\n",
      "7 Azerbaijan\n",
      "8 Bangladesh\n",
      "9 Belarus\n",
      "10 Belize\n",
      "11 Benin\n",
      "12 Bhutan\n",
      "13 Bolivia\n",
      "14 Bosnia and Herzegovina\n",
      "15 Botswana\n",
      "16 Brazil\n",
      "17 Bulgaria\n",
      "18 Burkina Faso\n",
      "19 Burundi\n",
      "20 Cabo Verde\n",
      "21 Cambodia\n",
      "22 Cameroon\n",
      "23 Central African Republic\n",
      "24 Chad\n",
      "25 Chile\n",
      "26 China\n",
      "27 Colombia\n",
      "28 Comoros\n",
      "29 Congo\n",
      "30 Congo, Democratic Republic\n",
      "31 Costa Rica\n",
      "32 Croatia\n",
      "33 Côte d'Ivoire\n",
      "34 Djibouti\n",
      "35 Dominica\n",
      "36 Dominican Republic\n",
      "37 Ecuador\n",
      "38 Egypt\n",
      "39 El Salvador\n",
      "40 Equatorial Guinea\n",
      "41 Eritrea\n",
      "42 Eswatini\n",
      "43 Ethiopia\n",
      "44 Fiji\n",
      "45 Gabon\n",
      "46 Gambia\n",
      "47 Georgia\n",
      "48 Ghana\n",
      "49 Grenada\n",
      "50 Guatemala\n",
      "51 Guinea\n",
      "52 Guinea-Bissau\n",
      "53 Guyana\n",
      "54 Haiti\n",
      "55 Honduras\n",
      "56 India\n",
      "57 Indonesia\n",
      "58 Iran (Islamic Republic of)\n",
      "59 Iraq\n",
      "60 Jamaica\n",
      "61 Jordan\n",
      "62 Kazakhstan\n",
      "63 Kenya\n",
      "64 Kiribati\n",
      "65 Kosovo\n",
      "66 Kyrgyzstan\n",
      "67 Lao People's Democratic Republic\n",
      "68 Lebanon\n",
      "69 Lesotho\n",
      "70 Liberia\n",
      "71 Libya\n",
      "72 Madagascar\n",
      "73 Malawi\n",
      "74 Malaysia\n",
      "75 Maldives\n",
      "76 Mali\n",
      "77 Marshall Islands\n",
      "78 Mauritania\n",
      "79 Mauritius\n",
      "80 Mexico\n",
      "81 Micronesia (Federated States of)\n",
      "82 Moldova\n",
      "83 Mongolia\n",
      "84 Montenegro\n",
      "85 Morocco\n",
      "86 Mozambique\n",
      "87 Myanmar\n",
      "88 Namibia\n",
      "89 Nauru\n",
      "90 Nepal\n",
      "91 Nicaragua\n",
      "92 Niger\n",
      "93 Nigeria\n",
      "94 North Macedonia\n",
      "95 Pakistan\n",
      "96 Palau\n",
      "97 Panama\n",
      "98 Papua New Guinea\n",
      "99 Paraguay\n",
      "100 Peru\n",
      "101 Philippines\n",
      "102 Poland\n",
      "103 Romania\n",
      "104 Russian Federation\n",
      "105 Rwanda\n",
      "106 Saint Kitts and Nevis\n",
      "107 Saint Lucia\n",
      "108 Saint Vincent and the Grenadines\n",
      "109 Samoa\n",
      "110 Sao Tome and Principe\n",
      "111 Senegal\n",
      "112 Serbia\n",
      "113 Seychelles\n",
      "114 Sierra Leone\n",
      "115 Solomon Islands\n",
      "116 Somalia\n",
      "117 South Africa\n",
      "118 South Sudan\n",
      "119 Sri Lanka\n",
      "120 Sudan\n",
      "121 Suriname\n",
      "122 Syrian Arab Republic\n",
      "123 Tajikistan\n",
      "124 Thailand\n",
      "125 Timor-Leste\n",
      "126 Togo\n",
      "127 Tonga\n",
      "128 Trinidad and Tobago\n",
      "129 Tunisia\n",
      "130 Turkey\n",
      "131 Turkmenistan\n",
      "132 Tuvalu\n",
      "133 Uganda\n",
      "134 Ukraine\n",
      "135 United Republic of Tanzania\n",
      "136 Uruguay\n",
      "137 Uzbekistan\n",
      "138 Vanuatu\n",
      "139 Venezuela\n",
      "140 Vietnam\n",
      "141 Yemen\n",
      "142 Zambia\n",
      "143 Zimbabwe\n"
     ]
    }
   ],
   "source": [
    "for i,j in enumerate(countries):\n",
    "    print(i,j)"
   ]
  },
  {
   "cell_type": "markdown",
   "id": "9fd0f05e",
   "metadata": {},
   "source": [
    "So how do we mitiage spelling issues? "
   ]
  },
  {
   "cell_type": "code",
   "execution_count": 4,
   "id": "6f4d7d20",
   "metadata": {},
   "outputs": [
    {
     "data": {
      "text/html": [
       "<div>\n",
       "<style scoped>\n",
       "    .dataframe tbody tr th:only-of-type {\n",
       "        vertical-align: middle;\n",
       "    }\n",
       "\n",
       "    .dataframe tbody tr th {\n",
       "        vertical-align: top;\n",
       "    }\n",
       "\n",
       "    .dataframe thead th {\n",
       "        text-align: right;\n",
       "    }\n",
       "</style>\n",
       "<table border=\"1\" class=\"dataframe\">\n",
       "  <thead>\n",
       "    <tr style=\"text-align: right;\">\n",
       "      <th></th>\n",
       "      <th>Goal</th>\n",
       "      <th>Target</th>\n",
       "      <th>Indicator</th>\n",
       "      <th>SeriesCode</th>\n",
       "      <th>SeriesDescription</th>\n",
       "      <th>GeoAreaCode</th>\n",
       "      <th>GeoAreaName</th>\n",
       "      <th>TimePeriod</th>\n",
       "      <th>Value</th>\n",
       "      <th>Time_Detail</th>\n",
       "      <th>...</th>\n",
       "      <th>Unnamed: 42</th>\n",
       "      <th>Unnamed: 43</th>\n",
       "      <th>Unnamed: 44</th>\n",
       "      <th>Unnamed: 45</th>\n",
       "      <th>Unnamed: 46</th>\n",
       "      <th>Unnamed: 47</th>\n",
       "      <th>Unnamed: 48</th>\n",
       "      <th>Unnamed: 49</th>\n",
       "      <th>Unnamed: 50</th>\n",
       "      <th>Unnamed: 51</th>\n",
       "    </tr>\n",
       "  </thead>\n",
       "  <tbody>\n",
       "    <tr>\n",
       "      <th>0</th>\n",
       "      <td>4</td>\n",
       "      <td>4.1</td>\n",
       "      <td>4.1.1</td>\n",
       "      <td>SE_TOT_PRFL</td>\n",
       "      <td>Proportion of children and young people achiev...</td>\n",
       "      <td>4</td>\n",
       "      <td>Afghanistan</td>\n",
       "      <td>2013</td>\n",
       "      <td>11.0</td>\n",
       "      <td>2013</td>\n",
       "      <td>...</td>\n",
       "      <td>NaN</td>\n",
       "      <td>NaN</td>\n",
       "      <td>NaN</td>\n",
       "      <td>NaN</td>\n",
       "      <td>NaN</td>\n",
       "      <td>NaN</td>\n",
       "      <td>NaN</td>\n",
       "      <td>NaN</td>\n",
       "      <td>NaN</td>\n",
       "      <td>NaN</td>\n",
       "    </tr>\n",
       "    <tr>\n",
       "      <th>1</th>\n",
       "      <td>4</td>\n",
       "      <td>4.1</td>\n",
       "      <td>4.1.1</td>\n",
       "      <td>SE_TOT_PRFL</td>\n",
       "      <td>Proportion of children and young people achiev...</td>\n",
       "      <td>4</td>\n",
       "      <td>Afghanistan</td>\n",
       "      <td>2013</td>\n",
       "      <td>13.0</td>\n",
       "      <td>2013</td>\n",
       "      <td>...</td>\n",
       "      <td>NaN</td>\n",
       "      <td>NaN</td>\n",
       "      <td>NaN</td>\n",
       "      <td>NaN</td>\n",
       "      <td>NaN</td>\n",
       "      <td>NaN</td>\n",
       "      <td>NaN</td>\n",
       "      <td>NaN</td>\n",
       "      <td>NaN</td>\n",
       "      <td>NaN</td>\n",
       "    </tr>\n",
       "    <tr>\n",
       "      <th>2</th>\n",
       "      <td>4</td>\n",
       "      <td>4.1</td>\n",
       "      <td>4.1.1</td>\n",
       "      <td>SE_TOT_PRFL</td>\n",
       "      <td>Proportion of children and young people achiev...</td>\n",
       "      <td>4</td>\n",
       "      <td>Afghanistan</td>\n",
       "      <td>2016</td>\n",
       "      <td>21.5</td>\n",
       "      <td>2016</td>\n",
       "      <td>...</td>\n",
       "      <td>NaN</td>\n",
       "      <td>NaN</td>\n",
       "      <td>NaN</td>\n",
       "      <td>NaN</td>\n",
       "      <td>NaN</td>\n",
       "      <td>NaN</td>\n",
       "      <td>NaN</td>\n",
       "      <td>NaN</td>\n",
       "      <td>NaN</td>\n",
       "      <td>NaN</td>\n",
       "    </tr>\n",
       "    <tr>\n",
       "      <th>3</th>\n",
       "      <td>4</td>\n",
       "      <td>4.1</td>\n",
       "      <td>4.1.1</td>\n",
       "      <td>SE_TOT_PRFL</td>\n",
       "      <td>Proportion of children and young people achiev...</td>\n",
       "      <td>4</td>\n",
       "      <td>Afghanistan</td>\n",
       "      <td>2016</td>\n",
       "      <td>22.5</td>\n",
       "      <td>2016</td>\n",
       "      <td>...</td>\n",
       "      <td>NaN</td>\n",
       "      <td>NaN</td>\n",
       "      <td>NaN</td>\n",
       "      <td>NaN</td>\n",
       "      <td>NaN</td>\n",
       "      <td>NaN</td>\n",
       "      <td>NaN</td>\n",
       "      <td>NaN</td>\n",
       "      <td>NaN</td>\n",
       "      <td>NaN</td>\n",
       "    </tr>\n",
       "    <tr>\n",
       "      <th>4</th>\n",
       "      <td>4</td>\n",
       "      <td>4.1</td>\n",
       "      <td>4.1.1</td>\n",
       "      <td>SE_TOT_PRFL</td>\n",
       "      <td>Proportion of children and young people achiev...</td>\n",
       "      <td>4</td>\n",
       "      <td>Afghanistan</td>\n",
       "      <td>2016</td>\n",
       "      <td>22.0</td>\n",
       "      <td>2016</td>\n",
       "      <td>...</td>\n",
       "      <td>NaN</td>\n",
       "      <td>NaN</td>\n",
       "      <td>NaN</td>\n",
       "      <td>NaN</td>\n",
       "      <td>NaN</td>\n",
       "      <td>NaN</td>\n",
       "      <td>NaN</td>\n",
       "      <td>NaN</td>\n",
       "      <td>NaN</td>\n",
       "      <td>NaN</td>\n",
       "    </tr>\n",
       "  </tbody>\n",
       "</table>\n",
       "<p>5 rows × 52 columns</p>\n",
       "</div>"
      ],
      "text/plain": [
       "   Goal Target Indicator   SeriesCode  \\\n",
       "0     4    4.1     4.1.1  SE_TOT_PRFL   \n",
       "1     4    4.1     4.1.1  SE_TOT_PRFL   \n",
       "2     4    4.1     4.1.1  SE_TOT_PRFL   \n",
       "3     4    4.1     4.1.1  SE_TOT_PRFL   \n",
       "4     4    4.1     4.1.1  SE_TOT_PRFL   \n",
       "\n",
       "                                   SeriesDescription  GeoAreaCode  \\\n",
       "0  Proportion of children and young people achiev...            4   \n",
       "1  Proportion of children and young people achiev...            4   \n",
       "2  Proportion of children and young people achiev...            4   \n",
       "3  Proportion of children and young people achiev...            4   \n",
       "4  Proportion of children and young people achiev...            4   \n",
       "\n",
       "   GeoAreaName  TimePeriod  Value Time_Detail  ...  Unnamed: 42  Unnamed: 43  \\\n",
       "0  Afghanistan        2013   11.0        2013  ...          NaN          NaN   \n",
       "1  Afghanistan        2013   13.0        2013  ...          NaN          NaN   \n",
       "2  Afghanistan        2016   21.5        2016  ...          NaN          NaN   \n",
       "3  Afghanistan        2016   22.5        2016  ...          NaN          NaN   \n",
       "4  Afghanistan        2016   22.0        2016  ...          NaN          NaN   \n",
       "\n",
       "   Unnamed: 44  Unnamed: 45 Unnamed: 46  Unnamed: 47 Unnamed: 48 Unnamed: 49  \\\n",
       "0          NaN          NaN         NaN          NaN         NaN         NaN   \n",
       "1          NaN          NaN         NaN          NaN         NaN         NaN   \n",
       "2          NaN          NaN         NaN          NaN         NaN         NaN   \n",
       "3          NaN          NaN         NaN          NaN         NaN         NaN   \n",
       "4          NaN          NaN         NaN          NaN         NaN         NaN   \n",
       "\n",
       "  Unnamed: 50 Unnamed: 51  \n",
       "0         NaN         NaN  \n",
       "1         NaN         NaN  \n",
       "2         NaN         NaN  \n",
       "3         NaN         NaN  \n",
       "4         NaN         NaN  \n",
       "\n",
       "[5 rows x 52 columns]"
      ]
     },
     "execution_count": 4,
     "metadata": {},
     "output_type": "execute_result"
    }
   ],
   "source": [
    "Goal4.head()"
   ]
  },
  {
   "cell_type": "markdown",
   "id": "540ef930",
   "metadata": {},
   "source": [
    "# Verify integrity of Data set"
   ]
  },
  {
   "cell_type": "code",
   "execution_count": 5,
   "id": "96472e8f",
   "metadata": {},
   "outputs": [
    {
     "data": {
      "text/plain": [
       "Index(['Goal', 'Target', 'Indicator', 'SeriesCode', 'SeriesDescription',\n",
       "       'GeoAreaCode', 'GeoAreaName', 'TimePeriod', 'Value', 'Time_Detail',\n",
       "       'TimeCoverage', 'UpperBound', 'LowerBound', 'BasePeriod', 'Source',\n",
       "       'GeoInfoUrl', 'FootNote', 'Age', 'Education level', 'Location',\n",
       "       'Nature', 'Quantile', 'Reporting Type', 'Sex', 'Type of skill', 'Units',\n",
       "       'Unnamed: 26', 'Unnamed: 27', 'Unnamed: 28', 'Unnamed: 29',\n",
       "       'Unnamed: 30', 'Unnamed: 31', 'Unnamed: 32', 'Unnamed: 33',\n",
       "       'Unnamed: 34', 'Unnamed: 35', 'Unnamed: 36', 'Unnamed: 37',\n",
       "       'Unnamed: 38', 'Unnamed: 39', 'Unnamed: 40', 'Unnamed: 41',\n",
       "       'Unnamed: 42', 'Unnamed: 43', 'Unnamed: 44', 'Unnamed: 45',\n",
       "       'Unnamed: 46', 'Unnamed: 47', 'Unnamed: 48', 'Unnamed: 49',\n",
       "       'Unnamed: 50', 'Unnamed: 51'],\n",
       "      dtype='object')"
      ]
     },
     "execution_count": 5,
     "metadata": {},
     "output_type": "execute_result"
    }
   ],
   "source": [
    "Goal4.columns"
   ]
  },
  {
   "cell_type": "code",
   "execution_count": 6,
   "id": "510ce6e4",
   "metadata": {},
   "outputs": [],
   "source": [
    "Goal4 = Goal4[['Goal', 'Target', 'Indicator', 'SeriesCode', 'SeriesDescription',\n",
    "       'GeoAreaCode', 'GeoAreaName', 'TimePeriod', 'Value', 'Time_Detail',\n",
    "       'TimeCoverage', 'UpperBound', 'LowerBound', 'BasePeriod', 'Source',\n",
    "       'GeoInfoUrl', 'FootNote', 'Age', 'Education level', 'Location',\n",
    "       'Nature', 'Quantile', 'Reporting Type', 'Sex', 'Type of skill', 'Units']]"
   ]
  },
  {
   "cell_type": "code",
   "execution_count": 7,
   "id": "c36ec449",
   "metadata": {},
   "outputs": [
    {
     "data": {
      "text/plain": [
       "Index(['Goal', 'Target', 'Indicator', 'SeriesCode', 'SeriesDescription',\n",
       "       'GeoAreaCode', 'GeoAreaName', 'TimePeriod', 'Value', 'Time_Detail',\n",
       "       'TimeCoverage', 'UpperBound', 'LowerBound', 'BasePeriod', 'Source',\n",
       "       'GeoInfoUrl', 'FootNote', 'Age', 'Education level', 'Location',\n",
       "       'Nature', 'Quantile', 'Reporting Type', 'Sex', 'Type of skill',\n",
       "       'Units'],\n",
       "      dtype='object')"
      ]
     },
     "execution_count": 7,
     "metadata": {},
     "output_type": "execute_result"
    }
   ],
   "source": [
    "Goal4.columns"
   ]
  },
  {
   "cell_type": "code",
   "execution_count": 8,
   "id": "0d626ba6",
   "metadata": {},
   "outputs": [
    {
     "data": {
      "text/html": [
       "<div>\n",
       "<style scoped>\n",
       "    .dataframe tbody tr th:only-of-type {\n",
       "        vertical-align: middle;\n",
       "    }\n",
       "\n",
       "    .dataframe tbody tr th {\n",
       "        vertical-align: top;\n",
       "    }\n",
       "\n",
       "    .dataframe thead th {\n",
       "        text-align: right;\n",
       "    }\n",
       "</style>\n",
       "<table border=\"1\" class=\"dataframe\">\n",
       "  <thead>\n",
       "    <tr style=\"text-align: right;\">\n",
       "      <th></th>\n",
       "      <th>Goal</th>\n",
       "      <th>Target</th>\n",
       "      <th>Indicator</th>\n",
       "      <th>SeriesCode</th>\n",
       "      <th>SeriesDescription</th>\n",
       "      <th>GeoAreaCode</th>\n",
       "      <th>GeoAreaName</th>\n",
       "      <th>TimePeriod</th>\n",
       "      <th>Value</th>\n",
       "      <th>Time_Detail</th>\n",
       "      <th>...</th>\n",
       "      <th>FootNote</th>\n",
       "      <th>Age</th>\n",
       "      <th>Education level</th>\n",
       "      <th>Location</th>\n",
       "      <th>Nature</th>\n",
       "      <th>Quantile</th>\n",
       "      <th>Reporting Type</th>\n",
       "      <th>Sex</th>\n",
       "      <th>Type of skill</th>\n",
       "      <th>Units</th>\n",
       "    </tr>\n",
       "  </thead>\n",
       "  <tbody>\n",
       "    <tr>\n",
       "      <th>0</th>\n",
       "      <td>4</td>\n",
       "      <td>4.1</td>\n",
       "      <td>4.1.1</td>\n",
       "      <td>SE_TOT_PRFL</td>\n",
       "      <td>Proportion of children and young people achiev...</td>\n",
       "      <td>4</td>\n",
       "      <td>Afghanistan</td>\n",
       "      <td>2013</td>\n",
       "      <td>11.0</td>\n",
       "      <td>2013</td>\n",
       "      <td>...</td>\n",
       "      <td>NaN</td>\n",
       "      <td>NaN</td>\n",
       "      <td>PRIMAR</td>\n",
       "      <td>NaN</td>\n",
       "      <td>C</td>\n",
       "      <td>NaN</td>\n",
       "      <td>G</td>\n",
       "      <td>BOTHSEX</td>\n",
       "      <td>SKILL_MATH</td>\n",
       "      <td>PERCENT</td>\n",
       "    </tr>\n",
       "    <tr>\n",
       "      <th>1</th>\n",
       "      <td>4</td>\n",
       "      <td>4.1</td>\n",
       "      <td>4.1.1</td>\n",
       "      <td>SE_TOT_PRFL</td>\n",
       "      <td>Proportion of children and young people achiev...</td>\n",
       "      <td>4</td>\n",
       "      <td>Afghanistan</td>\n",
       "      <td>2013</td>\n",
       "      <td>13.0</td>\n",
       "      <td>2013</td>\n",
       "      <td>...</td>\n",
       "      <td>NaN</td>\n",
       "      <td>NaN</td>\n",
       "      <td>PRIMAR</td>\n",
       "      <td>NaN</td>\n",
       "      <td>C</td>\n",
       "      <td>NaN</td>\n",
       "      <td>G</td>\n",
       "      <td>BOTHSEX</td>\n",
       "      <td>SKILL_READ</td>\n",
       "      <td>PERCENT</td>\n",
       "    </tr>\n",
       "    <tr>\n",
       "      <th>2</th>\n",
       "      <td>4</td>\n",
       "      <td>4.1</td>\n",
       "      <td>4.1.1</td>\n",
       "      <td>SE_TOT_PRFL</td>\n",
       "      <td>Proportion of children and young people achiev...</td>\n",
       "      <td>4</td>\n",
       "      <td>Afghanistan</td>\n",
       "      <td>2016</td>\n",
       "      <td>21.5</td>\n",
       "      <td>2016</td>\n",
       "      <td>...</td>\n",
       "      <td>NaN</td>\n",
       "      <td>NaN</td>\n",
       "      <td>GRAD23</td>\n",
       "      <td>NaN</td>\n",
       "      <td>C</td>\n",
       "      <td>NaN</td>\n",
       "      <td>G</td>\n",
       "      <td>MALE</td>\n",
       "      <td>SKILL_READ</td>\n",
       "      <td>PERCENT</td>\n",
       "    </tr>\n",
       "    <tr>\n",
       "      <th>3</th>\n",
       "      <td>4</td>\n",
       "      <td>4.1</td>\n",
       "      <td>4.1.1</td>\n",
       "      <td>SE_TOT_PRFL</td>\n",
       "      <td>Proportion of children and young people achiev...</td>\n",
       "      <td>4</td>\n",
       "      <td>Afghanistan</td>\n",
       "      <td>2016</td>\n",
       "      <td>22.5</td>\n",
       "      <td>2016</td>\n",
       "      <td>...</td>\n",
       "      <td>NaN</td>\n",
       "      <td>NaN</td>\n",
       "      <td>GRAD23</td>\n",
       "      <td>NaN</td>\n",
       "      <td>C</td>\n",
       "      <td>NaN</td>\n",
       "      <td>G</td>\n",
       "      <td>FEMALE</td>\n",
       "      <td>SKILL_READ</td>\n",
       "      <td>PERCENT</td>\n",
       "    </tr>\n",
       "    <tr>\n",
       "      <th>4</th>\n",
       "      <td>4</td>\n",
       "      <td>4.1</td>\n",
       "      <td>4.1.1</td>\n",
       "      <td>SE_TOT_PRFL</td>\n",
       "      <td>Proportion of children and young people achiev...</td>\n",
       "      <td>4</td>\n",
       "      <td>Afghanistan</td>\n",
       "      <td>2016</td>\n",
       "      <td>22.0</td>\n",
       "      <td>2016</td>\n",
       "      <td>...</td>\n",
       "      <td>NaN</td>\n",
       "      <td>NaN</td>\n",
       "      <td>GRAD23</td>\n",
       "      <td>NaN</td>\n",
       "      <td>C</td>\n",
       "      <td>NaN</td>\n",
       "      <td>G</td>\n",
       "      <td>BOTHSEX</td>\n",
       "      <td>SKILL_READ</td>\n",
       "      <td>PERCENT</td>\n",
       "    </tr>\n",
       "  </tbody>\n",
       "</table>\n",
       "<p>5 rows × 26 columns</p>\n",
       "</div>"
      ],
      "text/plain": [
       "   Goal Target Indicator   SeriesCode  \\\n",
       "0     4    4.1     4.1.1  SE_TOT_PRFL   \n",
       "1     4    4.1     4.1.1  SE_TOT_PRFL   \n",
       "2     4    4.1     4.1.1  SE_TOT_PRFL   \n",
       "3     4    4.1     4.1.1  SE_TOT_PRFL   \n",
       "4     4    4.1     4.1.1  SE_TOT_PRFL   \n",
       "\n",
       "                                   SeriesDescription  GeoAreaCode  \\\n",
       "0  Proportion of children and young people achiev...            4   \n",
       "1  Proportion of children and young people achiev...            4   \n",
       "2  Proportion of children and young people achiev...            4   \n",
       "3  Proportion of children and young people achiev...            4   \n",
       "4  Proportion of children and young people achiev...            4   \n",
       "\n",
       "   GeoAreaName  TimePeriod  Value Time_Detail  ...  FootNote  Age  \\\n",
       "0  Afghanistan        2013   11.0        2013  ...       NaN  NaN   \n",
       "1  Afghanistan        2013   13.0        2013  ...       NaN  NaN   \n",
       "2  Afghanistan        2016   21.5        2016  ...       NaN  NaN   \n",
       "3  Afghanistan        2016   22.5        2016  ...       NaN  NaN   \n",
       "4  Afghanistan        2016   22.0        2016  ...       NaN  NaN   \n",
       "\n",
       "   Education level  Location Nature  Quantile Reporting Type      Sex  \\\n",
       "0           PRIMAR       NaN      C       NaN              G  BOTHSEX   \n",
       "1           PRIMAR       NaN      C       NaN              G  BOTHSEX   \n",
       "2           GRAD23       NaN      C       NaN              G     MALE   \n",
       "3           GRAD23       NaN      C       NaN              G   FEMALE   \n",
       "4           GRAD23       NaN      C       NaN              G  BOTHSEX   \n",
       "\n",
       "  Type of skill    Units  \n",
       "0    SKILL_MATH  PERCENT  \n",
       "1    SKILL_READ  PERCENT  \n",
       "2    SKILL_READ  PERCENT  \n",
       "3    SKILL_READ  PERCENT  \n",
       "4    SKILL_READ  PERCENT  \n",
       "\n",
       "[5 rows x 26 columns]"
      ]
     },
     "execution_count": 8,
     "metadata": {},
     "output_type": "execute_result"
    }
   ],
   "source": [
    "Goal4.head()"
   ]
  },
  {
   "cell_type": "markdown",
   "id": "97f27c11",
   "metadata": {},
   "source": [
    "# Nans \n",
    "\n",
    "Now that the data frame holds the actual data, we can view the nans. "
   ]
  },
  {
   "cell_type": "code",
   "execution_count": 9,
   "id": "f800bcdd",
   "metadata": {},
   "outputs": [
    {
     "data": {
      "text/plain": [
       "191762"
      ]
     },
     "execution_count": 9,
     "metadata": {},
     "output_type": "execute_result"
    }
   ],
   "source": [
    "len(Goal4)"
   ]
  },
  {
   "cell_type": "code",
   "execution_count": 10,
   "id": "15d6b210",
   "metadata": {},
   "outputs": [
    {
     "data": {
      "text/plain": [
       "Goal                      0\n",
       "Target                    0\n",
       "Indicator                 0\n",
       "SeriesCode                0\n",
       "SeriesDescription         0\n",
       "GeoAreaCode               0\n",
       "GeoAreaName               0\n",
       "TimePeriod                0\n",
       "Value                 12192\n",
       "Time_Detail               0\n",
       "TimeCoverage         191762\n",
       "UpperBound           191762\n",
       "LowerBound           191762\n",
       "BasePeriod           189486\n",
       "Source                    0\n",
       "GeoInfoUrl           191762\n",
       "FootNote             176950\n",
       "Age                  191281\n",
       "Education level       17879\n",
       "Location              78911\n",
       "Nature                    0\n",
       "Quantile              55387\n",
       "Reporting Type            0\n",
       "Sex                   48829\n",
       "Type of skill        175898\n",
       "Units                     0\n",
       "dtype: int64"
      ]
     },
     "execution_count": 10,
     "metadata": {},
     "output_type": "execute_result"
    }
   ],
   "source": [
    "Goal4.isnull().sum()"
   ]
  },
  {
   "cell_type": "code",
   "execution_count": 11,
   "id": "d078580c",
   "metadata": {},
   "outputs": [
    {
     "data": {
      "text/plain": [
       "Goal                 0.000000\n",
       "Target               0.000000\n",
       "Indicator            0.000000\n",
       "SeriesCode           0.000000\n",
       "SeriesDescription    0.000000\n",
       "GeoAreaCode          0.000000\n",
       "GeoAreaName          0.000000\n",
       "TimePeriod           0.000000\n",
       "Value                0.063579\n",
       "Time_Detail          0.000000\n",
       "TimeCoverage         1.000000\n",
       "UpperBound           1.000000\n",
       "LowerBound           1.000000\n",
       "BasePeriod           0.988131\n",
       "Source               0.000000\n",
       "GeoInfoUrl           1.000000\n",
       "FootNote             0.922758\n",
       "Age                  0.997492\n",
       "Education level      0.093235\n",
       "Location             0.411505\n",
       "Nature               0.000000\n",
       "Quantile             0.288832\n",
       "Reporting Type       0.000000\n",
       "Sex                  0.254633\n",
       "Type of skill        0.917272\n",
       "Units                0.000000\n",
       "dtype: float64"
      ]
     },
     "execution_count": 11,
     "metadata": {},
     "output_type": "execute_result"
    }
   ],
   "source": [
    "Goal4.isnull().sum() /len(Goal4)"
   ]
  },
  {
   "cell_type": "code",
   "execution_count": 12,
   "id": "fba1a2e8",
   "metadata": {},
   "outputs": [
    {
     "data": {
      "text/plain": [
       "PERCENT    117723\n",
       "Ratio       71763\n",
       "CON_USD      2276\n",
       "Name: Units, dtype: int64"
      ]
     },
     "execution_count": 12,
     "metadata": {},
     "output_type": "execute_result"
    }
   ],
   "source": [
    "Goal4[\"Units\"].value_counts()"
   ]
  },
  {
   "cell_type": "code",
   "execution_count": 13,
   "id": "877de2a4",
   "metadata": {},
   "outputs": [
    {
     "data": {
      "text/plain": [
       "4    191762\n",
       "Name: Goal, dtype: int64"
      ]
     },
     "execution_count": 13,
     "metadata": {},
     "output_type": "execute_result"
    }
   ],
   "source": [
    "Goal4[\"Goal\"].value_counts()\n",
    "#They are all the same, we can likely drop this."
   ]
  },
  {
   "cell_type": "code",
   "execution_count": 14,
   "id": "da69667d",
   "metadata": {},
   "outputs": [
    {
     "data": {
      "text/plain": [
       "4.1    80340\n",
       "4.5    71763\n",
       "4.c    13535\n",
       "4.a    10546\n",
       "4.2     6127\n",
       "4.4     5929\n",
       "4.b     2276\n",
       "4.3     1009\n",
       "4.6      237\n",
       "Name: Target, dtype: int64"
      ]
     },
     "execution_count": 14,
     "metadata": {},
     "output_type": "execute_result"
    }
   ],
   "source": [
    "Goal4[\"Target\"].value_counts()\n",
    "#This is a wierd ordering. 4 is the goal. Why is there some \".number/character\""
   ]
  },
  {
   "cell_type": "markdown",
   "id": "5668a4a1",
   "metadata": {},
   "source": [
    "With some null exploration in mind we should drop anything that is over 30% null. The rest we can predict using an Sklearn method. "
   ]
  },
  {
   "cell_type": "code",
   "execution_count": 15,
   "id": "c76aed02",
   "metadata": {},
   "outputs": [
    {
     "name": "stdout",
     "output_type": "stream",
     "text": [
      "0.0\n",
      "0.0\n",
      "0.0\n",
      "0.0\n",
      "0.0\n",
      "0.0\n",
      "0.0\n",
      "0.06357881123475975\n",
      "0.0\n",
      "1.0\n",
      "1.0\n",
      "1.0\n",
      "0.9881311208685767\n",
      "0.0\n",
      "1.0\n",
      "0.922758419290579\n",
      "0.9974916823979725\n",
      "0.09323536467078983\n",
      "0.4115048862652663\n",
      "0.0\n",
      "0.2888319896538417\n",
      "0.0\n",
      "0.2546333475871132\n",
      "0.9172724523106768\n",
      "0.0\n"
     ]
    }
   ],
   "source": [
    "for i, element in enumerate(Goal4.isnull().sum() /len(Goal4) ) :\n",
    "    if i > .3:\n",
    "        print(element)"
   ]
  },
  {
   "cell_type": "markdown",
   "id": "b5c553df",
   "metadata": {},
   "source": [
    "# Dropping Data"
   ]
  },
  {
   "cell_type": "code",
   "execution_count": 16,
   "id": "0e9b6728",
   "metadata": {},
   "outputs": [],
   "source": [
    "features = list(Goal4.columns)"
   ]
  },
  {
   "cell_type": "code",
   "execution_count": 17,
   "id": "a1e9ddb7",
   "metadata": {},
   "outputs": [],
   "source": [
    "nullPercents = list( Goal4.isnull().sum() /len(Goal4))"
   ]
  },
  {
   "cell_type": "code",
   "execution_count": 18,
   "id": "00ad5556",
   "metadata": {},
   "outputs": [
    {
     "data": {
      "text/plain": [
       "[('TimeCoverage', 1.0),\n",
       " ('UpperBound', 1.0),\n",
       " ('LowerBound', 1.0),\n",
       " ('GeoInfoUrl', 1.0),\n",
       " ('Age', 0.9974916823979725),\n",
       " ('BasePeriod', 0.9881311208685767),\n",
       " ('FootNote', 0.922758419290579),\n",
       " ('Type of skill', 0.9172724523106768),\n",
       " ('Location', 0.4115048862652663),\n",
       " ('Quantile', 0.2888319896538417),\n",
       " ('Sex', 0.2546333475871132),\n",
       " ('Education level', 0.09323536467078983),\n",
       " ('Value', 0.06357881123475975),\n",
       " ('Goal', 0.0),\n",
       " ('Target', 0.0),\n",
       " ('Indicator', 0.0),\n",
       " ('SeriesCode', 0.0),\n",
       " ('SeriesDescription', 0.0),\n",
       " ('GeoAreaCode', 0.0),\n",
       " ('GeoAreaName', 0.0),\n",
       " ('TimePeriod', 0.0),\n",
       " ('Time_Detail', 0.0),\n",
       " ('Source', 0.0),\n",
       " ('Nature', 0.0),\n",
       " ('Reporting Type', 0.0),\n",
       " ('Units', 0.0)]"
      ]
     },
     "execution_count": 18,
     "metadata": {},
     "output_type": "execute_result"
    }
   ],
   "source": [
    "from operator import itemgetter\n",
    "sorted(zip(features, nullPercents), key = itemgetter(1), reverse = True)\n",
    "# If looks "
   ]
  },
  {
   "cell_type": "code",
   "execution_count": 19,
   "id": "dee66025",
   "metadata": {},
   "outputs": [
    {
     "data": {
      "text/plain": [
       "['TimeCoverage',\n",
       " 'UpperBound',\n",
       " 'LowerBound',\n",
       " 'GeoInfoUrl',\n",
       " 'Age',\n",
       " 'BasePeriod',\n",
       " 'FootNote',\n",
       " 'Type of skill',\n",
       " 'Location']"
      ]
     },
     "execution_count": 19,
     "metadata": {},
     "output_type": "execute_result"
    }
   ],
   "source": [
    "drop = []\n",
    "replace = []\n",
    "for (name, percent) in sorted(zip(features, nullPercents), key = itemgetter(1), reverse = True):\n",
    "    if(percent >.30):\n",
    "        drop.append(name)\n",
    "    elif ( percent <= .30 and percent >0):\n",
    "        replace.append(name)\n",
    "drop"
   ]
  },
  {
   "cell_type": "code",
   "execution_count": 20,
   "id": "a2a5ff3f",
   "metadata": {},
   "outputs": [],
   "source": [
    "Goal4.drop(drop ,inplace = True, axis = 1)"
   ]
  },
  {
   "cell_type": "code",
   "execution_count": 21,
   "id": "83ba26a3",
   "metadata": {},
   "outputs": [
    {
     "data": {
      "text/html": [
       "<div>\n",
       "<style scoped>\n",
       "    .dataframe tbody tr th:only-of-type {\n",
       "        vertical-align: middle;\n",
       "    }\n",
       "\n",
       "    .dataframe tbody tr th {\n",
       "        vertical-align: top;\n",
       "    }\n",
       "\n",
       "    .dataframe thead th {\n",
       "        text-align: right;\n",
       "    }\n",
       "</style>\n",
       "<table border=\"1\" class=\"dataframe\">\n",
       "  <thead>\n",
       "    <tr style=\"text-align: right;\">\n",
       "      <th></th>\n",
       "      <th>Goal</th>\n",
       "      <th>Target</th>\n",
       "      <th>Indicator</th>\n",
       "      <th>SeriesCode</th>\n",
       "      <th>SeriesDescription</th>\n",
       "      <th>GeoAreaCode</th>\n",
       "      <th>GeoAreaName</th>\n",
       "      <th>TimePeriod</th>\n",
       "      <th>Value</th>\n",
       "      <th>Time_Detail</th>\n",
       "      <th>Source</th>\n",
       "      <th>Education level</th>\n",
       "      <th>Nature</th>\n",
       "      <th>Quantile</th>\n",
       "      <th>Reporting Type</th>\n",
       "      <th>Sex</th>\n",
       "      <th>Units</th>\n",
       "    </tr>\n",
       "  </thead>\n",
       "  <tbody>\n",
       "    <tr>\n",
       "      <th>0</th>\n",
       "      <td>4</td>\n",
       "      <td>4.1</td>\n",
       "      <td>4.1.1</td>\n",
       "      <td>SE_TOT_PRFL</td>\n",
       "      <td>Proportion of children and young people achiev...</td>\n",
       "      <td>4</td>\n",
       "      <td>Afghanistan</td>\n",
       "      <td>2013</td>\n",
       "      <td>11.0</td>\n",
       "      <td>2013</td>\n",
       "      <td>National Learning Assessment (NLA): Monitoring...</td>\n",
       "      <td>PRIMAR</td>\n",
       "      <td>C</td>\n",
       "      <td>NaN</td>\n",
       "      <td>G</td>\n",
       "      <td>BOTHSEX</td>\n",
       "      <td>PERCENT</td>\n",
       "    </tr>\n",
       "    <tr>\n",
       "      <th>1</th>\n",
       "      <td>4</td>\n",
       "      <td>4.1</td>\n",
       "      <td>4.1.1</td>\n",
       "      <td>SE_TOT_PRFL</td>\n",
       "      <td>Proportion of children and young people achiev...</td>\n",
       "      <td>4</td>\n",
       "      <td>Afghanistan</td>\n",
       "      <td>2013</td>\n",
       "      <td>13.0</td>\n",
       "      <td>2013</td>\n",
       "      <td>National Learning Assessment (NLA): Monitoring...</td>\n",
       "      <td>PRIMAR</td>\n",
       "      <td>C</td>\n",
       "      <td>NaN</td>\n",
       "      <td>G</td>\n",
       "      <td>BOTHSEX</td>\n",
       "      <td>PERCENT</td>\n",
       "    </tr>\n",
       "    <tr>\n",
       "      <th>2</th>\n",
       "      <td>4</td>\n",
       "      <td>4.1</td>\n",
       "      <td>4.1.1</td>\n",
       "      <td>SE_TOT_PRFL</td>\n",
       "      <td>Proportion of children and young people achiev...</td>\n",
       "      <td>4</td>\n",
       "      <td>Afghanistan</td>\n",
       "      <td>2016</td>\n",
       "      <td>21.5</td>\n",
       "      <td>2016</td>\n",
       "      <td>National Learning Assessment (NLA): Monitoring...</td>\n",
       "      <td>GRAD23</td>\n",
       "      <td>C</td>\n",
       "      <td>NaN</td>\n",
       "      <td>G</td>\n",
       "      <td>MALE</td>\n",
       "      <td>PERCENT</td>\n",
       "    </tr>\n",
       "    <tr>\n",
       "      <th>3</th>\n",
       "      <td>4</td>\n",
       "      <td>4.1</td>\n",
       "      <td>4.1.1</td>\n",
       "      <td>SE_TOT_PRFL</td>\n",
       "      <td>Proportion of children and young people achiev...</td>\n",
       "      <td>4</td>\n",
       "      <td>Afghanistan</td>\n",
       "      <td>2016</td>\n",
       "      <td>22.5</td>\n",
       "      <td>2016</td>\n",
       "      <td>National Learning Assessment (NLA): Monitoring...</td>\n",
       "      <td>GRAD23</td>\n",
       "      <td>C</td>\n",
       "      <td>NaN</td>\n",
       "      <td>G</td>\n",
       "      <td>FEMALE</td>\n",
       "      <td>PERCENT</td>\n",
       "    </tr>\n",
       "    <tr>\n",
       "      <th>4</th>\n",
       "      <td>4</td>\n",
       "      <td>4.1</td>\n",
       "      <td>4.1.1</td>\n",
       "      <td>SE_TOT_PRFL</td>\n",
       "      <td>Proportion of children and young people achiev...</td>\n",
       "      <td>4</td>\n",
       "      <td>Afghanistan</td>\n",
       "      <td>2016</td>\n",
       "      <td>22.0</td>\n",
       "      <td>2016</td>\n",
       "      <td>National Learning Assessment (NLA): Monitoring...</td>\n",
       "      <td>GRAD23</td>\n",
       "      <td>C</td>\n",
       "      <td>NaN</td>\n",
       "      <td>G</td>\n",
       "      <td>BOTHSEX</td>\n",
       "      <td>PERCENT</td>\n",
       "    </tr>\n",
       "  </tbody>\n",
       "</table>\n",
       "</div>"
      ],
      "text/plain": [
       "   Goal Target Indicator   SeriesCode  \\\n",
       "0     4    4.1     4.1.1  SE_TOT_PRFL   \n",
       "1     4    4.1     4.1.1  SE_TOT_PRFL   \n",
       "2     4    4.1     4.1.1  SE_TOT_PRFL   \n",
       "3     4    4.1     4.1.1  SE_TOT_PRFL   \n",
       "4     4    4.1     4.1.1  SE_TOT_PRFL   \n",
       "\n",
       "                                   SeriesDescription  GeoAreaCode  \\\n",
       "0  Proportion of children and young people achiev...            4   \n",
       "1  Proportion of children and young people achiev...            4   \n",
       "2  Proportion of children and young people achiev...            4   \n",
       "3  Proportion of children and young people achiev...            4   \n",
       "4  Proportion of children and young people achiev...            4   \n",
       "\n",
       "   GeoAreaName  TimePeriod  Value Time_Detail  \\\n",
       "0  Afghanistan        2013   11.0        2013   \n",
       "1  Afghanistan        2013   13.0        2013   \n",
       "2  Afghanistan        2016   21.5        2016   \n",
       "3  Afghanistan        2016   22.5        2016   \n",
       "4  Afghanistan        2016   22.0        2016   \n",
       "\n",
       "                                              Source Education level Nature  \\\n",
       "0  National Learning Assessment (NLA): Monitoring...          PRIMAR      C   \n",
       "1  National Learning Assessment (NLA): Monitoring...          PRIMAR      C   \n",
       "2  National Learning Assessment (NLA): Monitoring...          GRAD23      C   \n",
       "3  National Learning Assessment (NLA): Monitoring...          GRAD23      C   \n",
       "4  National Learning Assessment (NLA): Monitoring...          GRAD23      C   \n",
       "\n",
       "  Quantile Reporting Type      Sex    Units  \n",
       "0      NaN              G  BOTHSEX  PERCENT  \n",
       "1      NaN              G  BOTHSEX  PERCENT  \n",
       "2      NaN              G     MALE  PERCENT  \n",
       "3      NaN              G   FEMALE  PERCENT  \n",
       "4      NaN              G  BOTHSEX  PERCENT  "
      ]
     },
     "execution_count": 21,
     "metadata": {},
     "output_type": "execute_result"
    }
   ],
   "source": [
    "Goal4.head()"
   ]
  },
  {
   "cell_type": "markdown",
   "id": "30e0bb6a",
   "metadata": {},
   "source": [
    "With columns with the majority of data done we need to fill in values for the columns with a small percent of missing values. \n",
    "\n",
    "- **Note**: The only real continuous value we have is value. What exactly are we supposed to model on? Target and indicator could indicate rank but I feel unsure about that. "
   ]
  },
  {
   "cell_type": "code",
   "execution_count": 22,
   "id": "c0d834bc",
   "metadata": {},
   "outputs": [
    {
     "data": {
      "text/plain": [
       "['Quantile', 'Sex', 'Education level', 'Value']"
      ]
     },
     "execution_count": 22,
     "metadata": {},
     "output_type": "execute_result"
    }
   ],
   "source": [
    "replace\n",
    "#These have some missing values. In order to fill them we must be using ordinal values."
   ]
  },
  {
   "cell_type": "markdown",
   "id": "9c9b8b0f",
   "metadata": {},
   "source": [
    "# Indicators and their missing values \n",
    "\n",
    "We need to determine in the amount of nulls is skewed to a certain indicator. If it is we have a problem "
   ]
  },
  {
   "cell_type": "code",
   "execution_count": 23,
   "id": "4bb26e14",
   "metadata": {},
   "outputs": [
    {
     "data": {
      "text/plain": [
       "Goal                     0\n",
       "Target                   0\n",
       "Indicator                0\n",
       "SeriesCode               0\n",
       "SeriesDescription        0\n",
       "GeoAreaCode              0\n",
       "GeoAreaName              0\n",
       "TimePeriod               0\n",
       "Value                12192\n",
       "Time_Detail              0\n",
       "Source                   0\n",
       "Education level      17879\n",
       "Nature                   0\n",
       "Quantile             55387\n",
       "Reporting Type           0\n",
       "Sex                  48829\n",
       "Units                    0\n",
       "dtype: int64"
      ]
     },
     "execution_count": 23,
     "metadata": {},
     "output_type": "execute_result"
    }
   ],
   "source": [
    "#All missing values and where they occur\n",
    "Goal4.isnull().sum()"
   ]
  },
  {
   "cell_type": "code",
   "execution_count": 24,
   "id": "97b456c6",
   "metadata": {},
   "outputs": [
    {
     "data": {
      "text/plain": [
       "Indicator\n",
       "4.1.1     3989\n",
       "4.1.2    76351\n",
       "4.2.1      244\n",
       "4.2.2     5883\n",
       "4.3.1     1009\n",
       "4.4.1     5929\n",
       "4.5.1    71763\n",
       "4.6.1      237\n",
       "4.a.1    10546\n",
       "4.b.1     2276\n",
       "4.c.1    13535\n",
       "Name: Goal, dtype: int64"
      ]
     },
     "execution_count": 24,
     "metadata": {},
     "output_type": "execute_result"
    }
   ],
   "source": [
    "Goal4.groupby([\"Indicator\"]).count()[\"Goal\"] "
   ]
  },
  {
   "cell_type": "code",
   "execution_count": 25,
   "id": "6345ee91",
   "metadata": {},
   "outputs": [],
   "source": [
    "#While it might be hard to read. \n",
    "#The number in the columns indicate how many of that indicator their is \n",
    "instances = list( Goal4.groupby([\"Indicator\"]).count()[\"Goal\"] )"
   ]
  },
  {
   "cell_type": "code",
   "execution_count": 26,
   "id": "8b32ba59",
   "metadata": {},
   "outputs": [
    {
     "data": {
      "text/plain": [
       "Indicator\n",
       "4.1.1        0\n",
       "4.1.2        0\n",
       "4.2.1        0\n",
       "4.2.2        0\n",
       "4.3.1        0\n",
       "4.4.1        0\n",
       "4.5.1    36007\n",
       "4.6.1        0\n",
       "4.a.1    10546\n",
       "4.b.1     2276\n",
       "4.c.1        0\n",
       "Name: Sex, dtype: int64"
      ]
     },
     "execution_count": 26,
     "metadata": {},
     "output_type": "execute_result"
    }
   ],
   "source": [
    "Goal4.groupby([\"Indicator\"]).agg({'Sex' : lambda x: x.isnull().sum()})[\"Sex\"] "
   ]
  },
  {
   "cell_type": "code",
   "execution_count": 27,
   "id": "ecbfcfdd",
   "metadata": {},
   "outputs": [
    {
     "data": {
      "text/plain": [
       "Indicator\n",
       "4.1.1    0.000000\n",
       "4.1.2    0.000000\n",
       "4.2.1    0.000000\n",
       "4.2.2    0.000000\n",
       "4.3.1    0.000000\n",
       "4.4.1    0.000000\n",
       "4.5.1    0.501749\n",
       "4.6.1    0.000000\n",
       "4.a.1    1.000000\n",
       "4.b.1    1.000000\n",
       "4.c.1    0.000000\n",
       "Name: Sex, dtype: float64"
      ]
     },
     "execution_count": 27,
     "metadata": {},
     "output_type": "execute_result"
    }
   ],
   "source": [
    "#This tells where the missing values in the \"Sex\" feature are. \n",
    "Goal4.groupby([\"Indicator\"]).agg({'Sex' : lambda x: x.isnull().sum()})[\"Sex\"] / instances"
   ]
  },
  {
   "cell_type": "code",
   "execution_count": 28,
   "id": "c04d014d",
   "metadata": {},
   "outputs": [
    {
     "data": {
      "text/plain": [
       "Indicator\n",
       "4.1.1    0.000000\n",
       "4.1.2    0.059803\n",
       "4.2.1    0.000000\n",
       "4.2.2    0.000000\n",
       "4.3.1    0.000000\n",
       "4.4.1    0.000000\n",
       "4.5.1    0.106266\n",
       "4.6.1    0.000000\n",
       "4.a.1    0.000000\n",
       "4.b.1    0.000000\n",
       "4.c.1    0.000000\n",
       "Name: Value, dtype: float64"
      ]
     },
     "execution_count": 28,
     "metadata": {},
     "output_type": "execute_result"
    }
   ],
   "source": [
    "#This tells where the missing values in the \"Value\" feature are. \n",
    "Goal4.groupby([\"Indicator\"]).agg({'Value' : lambda x: x.isnull().sum()})['Value'] / instances"
   ]
  },
  {
   "cell_type": "code",
   "execution_count": 29,
   "id": "ea602203",
   "metadata": {},
   "outputs": [
    {
     "data": {
      "text/plain": [
       "Indicator\n",
       "4.1.1    0.000000\n",
       "4.1.2    0.000000\n",
       "4.2.1    1.000000\n",
       "4.2.2    1.000000\n",
       "4.3.1    1.000000\n",
       "4.4.1    1.000000\n",
       "4.5.1    0.032064\n",
       "4.6.1    1.000000\n",
       "4.a.1    0.000000\n",
       "4.b.1    1.000000\n",
       "4.c.1    0.000000\n",
       "Name: Education level, dtype: float64"
      ]
     },
     "execution_count": 29,
     "metadata": {},
     "output_type": "execute_result"
    }
   ],
   "source": [
    "Goal4.groupby([\"Indicator\"]).agg({'Education level' : lambda x: x.isnull().sum()})['Education level'] / instances"
   ]
  },
  {
   "cell_type": "code",
   "execution_count": 30,
   "id": "9d321822",
   "metadata": {},
   "outputs": [
    {
     "data": {
      "text/plain": [
       "Indicator\n",
       "4.1.1    1.00000\n",
       "4.1.2    0.00000\n",
       "4.2.1    1.00000\n",
       "4.2.2    1.00000\n",
       "4.3.1    1.00000\n",
       "4.4.1    1.00000\n",
       "4.5.1    0.16358\n",
       "4.6.1    1.00000\n",
       "4.a.1    1.00000\n",
       "4.b.1    1.00000\n",
       "4.c.1    1.00000\n",
       "Name: Quantile, dtype: float64"
      ]
     },
     "execution_count": 30,
     "metadata": {},
     "output_type": "execute_result"
    }
   ],
   "source": [
    "Goal4.groupby([\"Indicator\"]).agg({'Quantile' : lambda x: x.isnull().sum()})['Quantile'] / instances "
   ]
  },
  {
   "cell_type": "markdown",
   "id": "6a072d1a",
   "metadata": {},
   "source": [
    "I looks like Quantity and Education level are missing for most indicators. Likely the threshhold for keeping was too high. We should get rid of them and move on. "
   ]
  },
  {
   "cell_type": "code",
   "execution_count": 31,
   "id": "771af84e",
   "metadata": {},
   "outputs": [],
   "source": [
    "Goal4.drop(['Quantile', 'Education level'], inplace = True, axis =1)"
   ]
  },
  {
   "cell_type": "code",
   "execution_count": null,
   "id": "ec090dd3",
   "metadata": {},
   "outputs": [],
   "source": []
  },
  {
   "cell_type": "markdown",
   "id": "9f38d6a9",
   "metadata": {},
   "source": [
    "# Filling in missing values"
   ]
  },
  {
   "cell_type": "code",
   "execution_count": 49,
   "id": "c605e166",
   "metadata": {},
   "outputs": [
    {
     "data": {
      "text/plain": [
       "array([[4, '4.1', '4.1.1', ..., 'G', 'BOTHSEX', 'PERCENT'],\n",
       "       [4, '4.1', '4.1.1', ..., 'G', 'BOTHSEX', 'PERCENT'],\n",
       "       [4, '4.1', '4.1.1', ..., 'G', 'MALE', 'PERCENT'],\n",
       "       ...,\n",
       "       [4, '4.c', '4.c.1', ..., 'G', 'MALE', 'PERCENT'],\n",
       "       [4, '4.c', '4.c.1', ..., 'G', 'BOTHSEX', 'PERCENT'],\n",
       "       [4, '4.c', '4.c.1', ..., 'G', 'FEMALE', 'PERCENT']], dtype=object)"
      ]
     },
     "execution_count": 49,
     "metadata": {},
     "output_type": "execute_result"
    }
   ],
   "source": [
    "# We want to use sklearn to fill in the ordinal values \n",
    "from sklearn.impute import SimpleImputer\n",
    "import numpy as np\n",
    "imputer = SimpleImputer(strategy='most_frequent')\n",
    "imputer.fit_transform(Goal4)"
   ]
  },
  {
   "cell_type": "code",
   "execution_count": 50,
   "id": "9d5f70a1",
   "metadata": {},
   "outputs": [],
   "source": [
    "Goal4= pd.DataFrame( imputer.fit_transform(Goal4)  ,columns = Goal4.columns) "
   ]
  },
  {
   "cell_type": "code",
   "execution_count": 51,
   "id": "d015b05b",
   "metadata": {},
   "outputs": [
    {
     "data": {
      "text/plain": [
       "Goal                 0\n",
       "Target               0\n",
       "Indicator            0\n",
       "SeriesCode           0\n",
       "SeriesDescription    0\n",
       "GeoAreaCode          0\n",
       "GeoAreaName          0\n",
       "TimePeriod           0\n",
       "Value                0\n",
       "Time_Detail          0\n",
       "Source               0\n",
       "Nature               0\n",
       "Reporting Type       0\n",
       "Sex                  0\n",
       "Units                0\n",
       "dtype: int64"
      ]
     },
     "execution_count": 51,
     "metadata": {},
     "output_type": "execute_result"
    }
   ],
   "source": [
    "#Everything should be zero after transforming the df \n",
    "Goal4.isnull().sum()"
   ]
  },
  {
   "cell_type": "code",
   "execution_count": 52,
   "id": "ff22867e",
   "metadata": {},
   "outputs": [
    {
     "data": {
      "text/html": [
       "<div>\n",
       "<style scoped>\n",
       "    .dataframe tbody tr th:only-of-type {\n",
       "        vertical-align: middle;\n",
       "    }\n",
       "\n",
       "    .dataframe tbody tr th {\n",
       "        vertical-align: top;\n",
       "    }\n",
       "\n",
       "    .dataframe thead th {\n",
       "        text-align: right;\n",
       "    }\n",
       "</style>\n",
       "<table border=\"1\" class=\"dataframe\">\n",
       "  <thead>\n",
       "    <tr style=\"text-align: right;\">\n",
       "      <th></th>\n",
       "      <th>Goal</th>\n",
       "      <th>Target</th>\n",
       "      <th>Indicator</th>\n",
       "      <th>SeriesCode</th>\n",
       "      <th>SeriesDescription</th>\n",
       "      <th>GeoAreaCode</th>\n",
       "      <th>GeoAreaName</th>\n",
       "      <th>TimePeriod</th>\n",
       "      <th>Value</th>\n",
       "      <th>Time_Detail</th>\n",
       "      <th>Source</th>\n",
       "      <th>Nature</th>\n",
       "      <th>Reporting Type</th>\n",
       "      <th>Sex</th>\n",
       "      <th>Units</th>\n",
       "    </tr>\n",
       "  </thead>\n",
       "  <tbody>\n",
       "    <tr>\n",
       "      <th>0</th>\n",
       "      <td>4</td>\n",
       "      <td>4.1</td>\n",
       "      <td>4.1.1</td>\n",
       "      <td>SE_TOT_PRFL</td>\n",
       "      <td>Proportion of children and young people achiev...</td>\n",
       "      <td>4</td>\n",
       "      <td>Afghanistan</td>\n",
       "      <td>2013</td>\n",
       "      <td>11.0</td>\n",
       "      <td>2013</td>\n",
       "      <td>National Learning Assessment (NLA): Monitoring...</td>\n",
       "      <td>C</td>\n",
       "      <td>G</td>\n",
       "      <td>BOTHSEX</td>\n",
       "      <td>PERCENT</td>\n",
       "    </tr>\n",
       "    <tr>\n",
       "      <th>1</th>\n",
       "      <td>4</td>\n",
       "      <td>4.1</td>\n",
       "      <td>4.1.1</td>\n",
       "      <td>SE_TOT_PRFL</td>\n",
       "      <td>Proportion of children and young people achiev...</td>\n",
       "      <td>4</td>\n",
       "      <td>Afghanistan</td>\n",
       "      <td>2013</td>\n",
       "      <td>13.0</td>\n",
       "      <td>2013</td>\n",
       "      <td>National Learning Assessment (NLA): Monitoring...</td>\n",
       "      <td>C</td>\n",
       "      <td>G</td>\n",
       "      <td>BOTHSEX</td>\n",
       "      <td>PERCENT</td>\n",
       "    </tr>\n",
       "    <tr>\n",
       "      <th>2</th>\n",
       "      <td>4</td>\n",
       "      <td>4.1</td>\n",
       "      <td>4.1.1</td>\n",
       "      <td>SE_TOT_PRFL</td>\n",
       "      <td>Proportion of children and young people achiev...</td>\n",
       "      <td>4</td>\n",
       "      <td>Afghanistan</td>\n",
       "      <td>2016</td>\n",
       "      <td>21.5</td>\n",
       "      <td>2016</td>\n",
       "      <td>National Learning Assessment (NLA): Monitoring...</td>\n",
       "      <td>C</td>\n",
       "      <td>G</td>\n",
       "      <td>MALE</td>\n",
       "      <td>PERCENT</td>\n",
       "    </tr>\n",
       "    <tr>\n",
       "      <th>3</th>\n",
       "      <td>4</td>\n",
       "      <td>4.1</td>\n",
       "      <td>4.1.1</td>\n",
       "      <td>SE_TOT_PRFL</td>\n",
       "      <td>Proportion of children and young people achiev...</td>\n",
       "      <td>4</td>\n",
       "      <td>Afghanistan</td>\n",
       "      <td>2016</td>\n",
       "      <td>22.5</td>\n",
       "      <td>2016</td>\n",
       "      <td>National Learning Assessment (NLA): Monitoring...</td>\n",
       "      <td>C</td>\n",
       "      <td>G</td>\n",
       "      <td>FEMALE</td>\n",
       "      <td>PERCENT</td>\n",
       "    </tr>\n",
       "    <tr>\n",
       "      <th>4</th>\n",
       "      <td>4</td>\n",
       "      <td>4.1</td>\n",
       "      <td>4.1.1</td>\n",
       "      <td>SE_TOT_PRFL</td>\n",
       "      <td>Proportion of children and young people achiev...</td>\n",
       "      <td>4</td>\n",
       "      <td>Afghanistan</td>\n",
       "      <td>2016</td>\n",
       "      <td>22.0</td>\n",
       "      <td>2016</td>\n",
       "      <td>National Learning Assessment (NLA): Monitoring...</td>\n",
       "      <td>C</td>\n",
       "      <td>G</td>\n",
       "      <td>BOTHSEX</td>\n",
       "      <td>PERCENT</td>\n",
       "    </tr>\n",
       "  </tbody>\n",
       "</table>\n",
       "</div>"
      ],
      "text/plain": [
       "  Goal Target Indicator   SeriesCode  \\\n",
       "0    4    4.1     4.1.1  SE_TOT_PRFL   \n",
       "1    4    4.1     4.1.1  SE_TOT_PRFL   \n",
       "2    4    4.1     4.1.1  SE_TOT_PRFL   \n",
       "3    4    4.1     4.1.1  SE_TOT_PRFL   \n",
       "4    4    4.1     4.1.1  SE_TOT_PRFL   \n",
       "\n",
       "                                   SeriesDescription GeoAreaCode  GeoAreaName  \\\n",
       "0  Proportion of children and young people achiev...           4  Afghanistan   \n",
       "1  Proportion of children and young people achiev...           4  Afghanistan   \n",
       "2  Proportion of children and young people achiev...           4  Afghanistan   \n",
       "3  Proportion of children and young people achiev...           4  Afghanistan   \n",
       "4  Proportion of children and young people achiev...           4  Afghanistan   \n",
       "\n",
       "  TimePeriod Value Time_Detail  \\\n",
       "0       2013  11.0        2013   \n",
       "1       2013  13.0        2013   \n",
       "2       2016  21.5        2016   \n",
       "3       2016  22.5        2016   \n",
       "4       2016  22.0        2016   \n",
       "\n",
       "                                              Source Nature Reporting Type  \\\n",
       "0  National Learning Assessment (NLA): Monitoring...      C              G   \n",
       "1  National Learning Assessment (NLA): Monitoring...      C              G   \n",
       "2  National Learning Assessment (NLA): Monitoring...      C              G   \n",
       "3  National Learning Assessment (NLA): Monitoring...      C              G   \n",
       "4  National Learning Assessment (NLA): Monitoring...      C              G   \n",
       "\n",
       "       Sex    Units  \n",
       "0  BOTHSEX  PERCENT  \n",
       "1  BOTHSEX  PERCENT  \n",
       "2     MALE  PERCENT  \n",
       "3   FEMALE  PERCENT  \n",
       "4  BOTHSEX  PERCENT  "
      ]
     },
     "execution_count": 52,
     "metadata": {},
     "output_type": "execute_result"
    }
   ],
   "source": [
    "Goal4.head() # Woo, our missing values should be gone. "
   ]
  },
  {
   "cell_type": "markdown",
   "id": "a48849bb",
   "metadata": {},
   "source": [
    "Now that we have data frame we must convert our categorical values \n",
    "\n",
    "# Ordinal Encoding "
   ]
  },
  {
   "cell_type": "code",
   "execution_count": 53,
   "id": "2b27d9be",
   "metadata": {},
   "outputs": [
    {
     "name": "stdout",
     "output_type": "stream",
     "text": [
      "<class 'pandas.core.frame.DataFrame'>\n",
      "RangeIndex: 191762 entries, 0 to 191761\n",
      "Data columns (total 15 columns):\n",
      " #   Column             Non-Null Count   Dtype \n",
      "---  ------             --------------   ----- \n",
      " 0   Goal               191762 non-null  object\n",
      " 1   Target             191762 non-null  object\n",
      " 2   Indicator          191762 non-null  object\n",
      " 3   SeriesCode         191762 non-null  object\n",
      " 4   SeriesDescription  191762 non-null  object\n",
      " 5   GeoAreaCode        191762 non-null  object\n",
      " 6   GeoAreaName        191762 non-null  object\n",
      " 7   TimePeriod         191762 non-null  object\n",
      " 8   Value              191762 non-null  object\n",
      " 9   Time_Detail        191762 non-null  object\n",
      " 10  Source             191762 non-null  object\n",
      " 11  Nature             191762 non-null  object\n",
      " 12  Reporting Type     191762 non-null  object\n",
      " 13  Sex                191762 non-null  object\n",
      " 14  Units              191762 non-null  object\n",
      "dtypes: object(15)\n",
      "memory usage: 21.9+ MB\n"
     ]
    }
   ],
   "source": [
    "Goal4.info()"
   ]
  },
  {
   "cell_type": "code",
   "execution_count": 54,
   "id": "cea29ca9",
   "metadata": {},
   "outputs": [],
   "source": [
    "numerical_data = Goal4[[\"Goal\" , \"GeoAreaCode\", \"TimePeriod\", \"Value\"]]\n",
    "categorical_data = Goal4.copy()\n",
    "categorical_data.drop([\"Goal\" , \"GeoAreaCode\", \"TimePeriod\", \"Value\"], inplace = True, axis = 1)"
   ]
  },
  {
   "cell_type": "code",
   "execution_count": 55,
   "id": "43728117",
   "metadata": {},
   "outputs": [],
   "source": [
    "from sklearn.preprocessing import OrdinalEncoder\n",
    "ordinal_encoder = OrdinalEncoder()\n",
    "#Only do it on the categorical features \n",
    "#This any non-object we save in a numerical features matrix and a categorical data.\n",
    "ordinal_data = ordinal_encoder.fit_transform(categorical_data)"
   ]
  },
  {
   "cell_type": "code",
   "execution_count": 56,
   "id": "a6055a0d",
   "metadata": {},
   "outputs": [
    {
     "data": {
      "text/plain": [
       "(191762, 11)"
      ]
     },
     "execution_count": 56,
     "metadata": {},
     "output_type": "execute_result"
    }
   ],
   "source": [
    "ordinal_data.shape"
   ]
  },
  {
   "cell_type": "code",
   "execution_count": 60,
   "id": "35850087",
   "metadata": {},
   "outputs": [
    {
     "data": {
      "text/plain": [
       "pandas.core.frame.DataFrame"
      ]
     },
     "execution_count": 60,
     "metadata": {},
     "output_type": "execute_result"
    }
   ],
   "source": [
    "type(numerical_data)"
   ]
  },
  {
   "cell_type": "code",
   "execution_count": 62,
   "id": "d32f4e88",
   "metadata": {},
   "outputs": [
    {
     "data": {
      "text/plain": [
       "numpy.ndarray"
      ]
     },
     "execution_count": 62,
     "metadata": {},
     "output_type": "execute_result"
    }
   ],
   "source": [
    "type(numerical_data.to_numpy() )"
   ]
  },
  {
   "cell_type": "code",
   "execution_count": 58,
   "id": "e8a865b0",
   "metadata": {},
   "outputs": [
    {
     "data": {
      "text/plain": [
       "numpy.ndarray"
      ]
     },
     "execution_count": 58,
     "metadata": {},
     "output_type": "execute_result"
    }
   ],
   "source": [
    "type(ordinal_data)"
   ]
  },
  {
   "cell_type": "code",
   "execution_count": 68,
   "id": "0fab0e6a",
   "metadata": {},
   "outputs": [
    {
     "data": {
      "text/plain": [
       "(191762, 15)"
      ]
     },
     "execution_count": 68,
     "metadata": {},
     "output_type": "execute_result"
    }
   ],
   "source": [
    "np.c_[ordinal_data,numerical_data.to_numpy() ]"
   ]
  },
  {
   "cell_type": "code",
   "execution_count": 73,
   "id": "dd3b02d5",
   "metadata": {},
   "outputs": [],
   "source": [
    "all_columns = list(categorical_data.columns) + list(numerical_data.columns)"
   ]
  },
  {
   "cell_type": "code",
   "execution_count": 74,
   "id": "cd1af42f",
   "metadata": {},
   "outputs": [],
   "source": [
    "df = pd.DataFrame(np.c_[ordinal_data,numerical_data.to_numpy() ], columns = all_columns)"
   ]
  },
  {
   "cell_type": "code",
   "execution_count": 75,
   "id": "69debb8d",
   "metadata": {},
   "outputs": [
    {
     "data": {
      "text/html": [
       "<div>\n",
       "<style scoped>\n",
       "    .dataframe tbody tr th:only-of-type {\n",
       "        vertical-align: middle;\n",
       "    }\n",
       "\n",
       "    .dataframe tbody tr th {\n",
       "        vertical-align: top;\n",
       "    }\n",
       "\n",
       "    .dataframe thead th {\n",
       "        text-align: right;\n",
       "    }\n",
       "</style>\n",
       "<table border=\"1\" class=\"dataframe\">\n",
       "  <thead>\n",
       "    <tr style=\"text-align: right;\">\n",
       "      <th></th>\n",
       "      <th>Target</th>\n",
       "      <th>Indicator</th>\n",
       "      <th>SeriesCode</th>\n",
       "      <th>SeriesDescription</th>\n",
       "      <th>GeoAreaName</th>\n",
       "      <th>Time_Detail</th>\n",
       "      <th>Source</th>\n",
       "      <th>Nature</th>\n",
       "      <th>Reporting Type</th>\n",
       "      <th>Sex</th>\n",
       "      <th>Units</th>\n",
       "      <th>Goal</th>\n",
       "      <th>GeoAreaCode</th>\n",
       "      <th>TimePeriod</th>\n",
       "      <th>Value</th>\n",
       "    </tr>\n",
       "  </thead>\n",
       "  <tbody>\n",
       "    <tr>\n",
       "      <th>0</th>\n",
       "      <td>0.0</td>\n",
       "      <td>0.0</td>\n",
       "      <td>25.0</td>\n",
       "      <td>16.0</td>\n",
       "      <td>0.0</td>\n",
       "      <td>15.0</td>\n",
       "      <td>168.0</td>\n",
       "      <td>0.0</td>\n",
       "      <td>0.0</td>\n",
       "      <td>0.0</td>\n",
       "      <td>1.0</td>\n",
       "      <td>4</td>\n",
       "      <td>4</td>\n",
       "      <td>2013</td>\n",
       "      <td>11.0</td>\n",
       "    </tr>\n",
       "    <tr>\n",
       "      <th>1</th>\n",
       "      <td>0.0</td>\n",
       "      <td>0.0</td>\n",
       "      <td>25.0</td>\n",
       "      <td>16.0</td>\n",
       "      <td>0.0</td>\n",
       "      <td>15.0</td>\n",
       "      <td>167.0</td>\n",
       "      <td>0.0</td>\n",
       "      <td>0.0</td>\n",
       "      <td>0.0</td>\n",
       "      <td>1.0</td>\n",
       "      <td>4</td>\n",
       "      <td>4</td>\n",
       "      <td>2013</td>\n",
       "      <td>13.0</td>\n",
       "    </tr>\n",
       "    <tr>\n",
       "      <th>2</th>\n",
       "      <td>0.0</td>\n",
       "      <td>0.0</td>\n",
       "      <td>25.0</td>\n",
       "      <td>16.0</td>\n",
       "      <td>0.0</td>\n",
       "      <td>20.0</td>\n",
       "      <td>166.0</td>\n",
       "      <td>0.0</td>\n",
       "      <td>0.0</td>\n",
       "      <td>2.0</td>\n",
       "      <td>1.0</td>\n",
       "      <td>4</td>\n",
       "      <td>4</td>\n",
       "      <td>2016</td>\n",
       "      <td>21.5</td>\n",
       "    </tr>\n",
       "    <tr>\n",
       "      <th>3</th>\n",
       "      <td>0.0</td>\n",
       "      <td>0.0</td>\n",
       "      <td>25.0</td>\n",
       "      <td>16.0</td>\n",
       "      <td>0.0</td>\n",
       "      <td>20.0</td>\n",
       "      <td>166.0</td>\n",
       "      <td>0.0</td>\n",
       "      <td>0.0</td>\n",
       "      <td>1.0</td>\n",
       "      <td>1.0</td>\n",
       "      <td>4</td>\n",
       "      <td>4</td>\n",
       "      <td>2016</td>\n",
       "      <td>22.5</td>\n",
       "    </tr>\n",
       "    <tr>\n",
       "      <th>4</th>\n",
       "      <td>0.0</td>\n",
       "      <td>0.0</td>\n",
       "      <td>25.0</td>\n",
       "      <td>16.0</td>\n",
       "      <td>0.0</td>\n",
       "      <td>20.0</td>\n",
       "      <td>166.0</td>\n",
       "      <td>0.0</td>\n",
       "      <td>0.0</td>\n",
       "      <td>0.0</td>\n",
       "      <td>1.0</td>\n",
       "      <td>4</td>\n",
       "      <td>4</td>\n",
       "      <td>2016</td>\n",
       "      <td>22.0</td>\n",
       "    </tr>\n",
       "  </tbody>\n",
       "</table>\n",
       "</div>"
      ],
      "text/plain": [
       "  Target Indicator SeriesCode SeriesDescription GeoAreaName Time_Detail  \\\n",
       "0    0.0       0.0       25.0              16.0         0.0        15.0   \n",
       "1    0.0       0.0       25.0              16.0         0.0        15.0   \n",
       "2    0.0       0.0       25.0              16.0         0.0        20.0   \n",
       "3    0.0       0.0       25.0              16.0         0.0        20.0   \n",
       "4    0.0       0.0       25.0              16.0         0.0        20.0   \n",
       "\n",
       "  Source Nature Reporting Type  Sex Units Goal GeoAreaCode TimePeriod Value  \n",
       "0  168.0    0.0            0.0  0.0   1.0    4           4       2013  11.0  \n",
       "1  167.0    0.0            0.0  0.0   1.0    4           4       2013  13.0  \n",
       "2  166.0    0.0            0.0  2.0   1.0    4           4       2016  21.5  \n",
       "3  166.0    0.0            0.0  1.0   1.0    4           4       2016  22.5  \n",
       "4  166.0    0.0            0.0  0.0   1.0    4           4       2016  22.0  "
      ]
     },
     "execution_count": 75,
     "metadata": {},
     "output_type": "execute_result"
    }
   ],
   "source": [
    "df.head()"
   ]
  },
  {
   "cell_type": "code",
   "execution_count": 76,
   "id": "d4dff9f6",
   "metadata": {},
   "outputs": [],
   "source": [
    "df.to_csv(\"./cleaned_data.csv\")"
   ]
  }
 ],
 "metadata": {
  "kernelspec": {
   "display_name": "Python 3",
   "language": "python",
   "name": "python3"
  },
  "language_info": {
   "codemirror_mode": {
    "name": "ipython",
    "version": 3
   },
   "file_extension": ".py",
   "mimetype": "text/x-python",
   "name": "python",
   "nbconvert_exporter": "python",
   "pygments_lexer": "ipython3",
   "version": "3.7.3"
  }
 },
 "nbformat": 4,
 "nbformat_minor": 5
}
