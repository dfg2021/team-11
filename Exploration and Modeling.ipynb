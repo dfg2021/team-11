{
 "cells": [
  {
   "cell_type": "code",
   "execution_count": 1,
   "id": "9e352512",
   "metadata": {},
   "outputs": [
    {
     "name": "stderr",
     "output_type": "stream",
     "text": [
      "/opt/tljh/user/lib/python3.7/site-packages/IPython/core/interactiveshell.py:3166: DtypeWarning: Columns (2,8) have mixed types.Specify dtype option on import or set low_memory=False.\n",
      "  interactivity=interactivity, compiler=compiler, result=result)\n"
     ]
    }
   ],
   "source": [
    "import pandas as pd \n",
    "df = pd.read_csv(\"./cleaned_data.csv\")"
   ]
  },
  {
   "cell_type": "code",
   "execution_count": 2,
   "id": "49b0260b",
   "metadata": {},
   "outputs": [],
   "source": [
    "df.drop(\"Unnamed: 0\", inplace = True, axis =1 )"
   ]
  },
  {
   "cell_type": "code",
   "execution_count": 3,
   "id": "c15de8b1",
   "metadata": {},
   "outputs": [
    {
     "data": {
      "text/html": [
       "<div>\n",
       "<style scoped>\n",
       "    .dataframe tbody tr th:only-of-type {\n",
       "        vertical-align: middle;\n",
       "    }\n",
       "\n",
       "    .dataframe tbody tr th {\n",
       "        vertical-align: top;\n",
       "    }\n",
       "\n",
       "    .dataframe thead th {\n",
       "        text-align: right;\n",
       "    }\n",
       "</style>\n",
       "<table border=\"1\" class=\"dataframe\">\n",
       "  <thead>\n",
       "    <tr style=\"text-align: right;\">\n",
       "      <th></th>\n",
       "      <th>Goal</th>\n",
       "      <th>Target</th>\n",
       "      <th>Indicator</th>\n",
       "      <th>GeoAreaCode</th>\n",
       "      <th>GeoAreaName</th>\n",
       "      <th>TimePeriod</th>\n",
       "      <th>Value</th>\n",
       "      <th>Time_Detail</th>\n",
       "      <th>SeriesCode</th>\n",
       "      <th>SeriesDescription</th>\n",
       "      <th>Source</th>\n",
       "      <th>Nature</th>\n",
       "      <th>Reporting Type</th>\n",
       "      <th>Sex</th>\n",
       "      <th>Units</th>\n",
       "    </tr>\n",
       "  </thead>\n",
       "  <tbody>\n",
       "    <tr>\n",
       "      <th>0</th>\n",
       "      <td>4</td>\n",
       "      <td>4.1</td>\n",
       "      <td>4.1.1</td>\n",
       "      <td>4</td>\n",
       "      <td>Afghanistan</td>\n",
       "      <td>2013</td>\n",
       "      <td>11.0</td>\n",
       "      <td>2013</td>\n",
       "      <td>25.0</td>\n",
       "      <td>16.0</td>\n",
       "      <td>168.0</td>\n",
       "      <td>0.0</td>\n",
       "      <td>0.0</td>\n",
       "      <td>0.0</td>\n",
       "      <td>1.0</td>\n",
       "    </tr>\n",
       "    <tr>\n",
       "      <th>1</th>\n",
       "      <td>4</td>\n",
       "      <td>4.1</td>\n",
       "      <td>4.1.1</td>\n",
       "      <td>4</td>\n",
       "      <td>Afghanistan</td>\n",
       "      <td>2013</td>\n",
       "      <td>13.0</td>\n",
       "      <td>2013</td>\n",
       "      <td>25.0</td>\n",
       "      <td>16.0</td>\n",
       "      <td>167.0</td>\n",
       "      <td>0.0</td>\n",
       "      <td>0.0</td>\n",
       "      <td>0.0</td>\n",
       "      <td>1.0</td>\n",
       "    </tr>\n",
       "    <tr>\n",
       "      <th>2</th>\n",
       "      <td>4</td>\n",
       "      <td>4.1</td>\n",
       "      <td>4.1.1</td>\n",
       "      <td>4</td>\n",
       "      <td>Afghanistan</td>\n",
       "      <td>2016</td>\n",
       "      <td>21.5</td>\n",
       "      <td>2016</td>\n",
       "      <td>25.0</td>\n",
       "      <td>16.0</td>\n",
       "      <td>166.0</td>\n",
       "      <td>0.0</td>\n",
       "      <td>0.0</td>\n",
       "      <td>2.0</td>\n",
       "      <td>1.0</td>\n",
       "    </tr>\n",
       "    <tr>\n",
       "      <th>3</th>\n",
       "      <td>4</td>\n",
       "      <td>4.1</td>\n",
       "      <td>4.1.1</td>\n",
       "      <td>4</td>\n",
       "      <td>Afghanistan</td>\n",
       "      <td>2016</td>\n",
       "      <td>22.5</td>\n",
       "      <td>2016</td>\n",
       "      <td>25.0</td>\n",
       "      <td>16.0</td>\n",
       "      <td>166.0</td>\n",
       "      <td>0.0</td>\n",
       "      <td>0.0</td>\n",
       "      <td>1.0</td>\n",
       "      <td>1.0</td>\n",
       "    </tr>\n",
       "    <tr>\n",
       "      <th>4</th>\n",
       "      <td>4</td>\n",
       "      <td>4.1</td>\n",
       "      <td>4.1.1</td>\n",
       "      <td>4</td>\n",
       "      <td>Afghanistan</td>\n",
       "      <td>2016</td>\n",
       "      <td>22.0</td>\n",
       "      <td>2016</td>\n",
       "      <td>25.0</td>\n",
       "      <td>16.0</td>\n",
       "      <td>166.0</td>\n",
       "      <td>0.0</td>\n",
       "      <td>0.0</td>\n",
       "      <td>0.0</td>\n",
       "      <td>1.0</td>\n",
       "    </tr>\n",
       "  </tbody>\n",
       "</table>\n",
       "</div>"
      ],
      "text/plain": [
       "   Goal Target Indicator  GeoAreaCode  GeoAreaName  TimePeriod  Value  \\\n",
       "0     4    4.1     4.1.1            4  Afghanistan        2013   11.0   \n",
       "1     4    4.1     4.1.1            4  Afghanistan        2013   13.0   \n",
       "2     4    4.1     4.1.1            4  Afghanistan        2016   21.5   \n",
       "3     4    4.1     4.1.1            4  Afghanistan        2016   22.5   \n",
       "4     4    4.1     4.1.1            4  Afghanistan        2016   22.0   \n",
       "\n",
       "  Time_Detail  SeriesCode  SeriesDescription  Source  Nature  Reporting Type  \\\n",
       "0        2013        25.0               16.0   168.0     0.0             0.0   \n",
       "1        2013        25.0               16.0   167.0     0.0             0.0   \n",
       "2        2016        25.0               16.0   166.0     0.0             0.0   \n",
       "3        2016        25.0               16.0   166.0     0.0             0.0   \n",
       "4        2016        25.0               16.0   166.0     0.0             0.0   \n",
       "\n",
       "   Sex  Units  \n",
       "0  0.0    1.0  \n",
       "1  0.0    1.0  \n",
       "2  2.0    1.0  \n",
       "3  1.0    1.0  \n",
       "4  0.0    1.0  "
      ]
     },
     "execution_count": 3,
     "metadata": {},
     "output_type": "execute_result"
    }
   ],
   "source": [
    "df.head()"
   ]
  },
  {
   "cell_type": "markdown",
   "id": "1e1368f4",
   "metadata": {},
   "source": [
    "With the data cleaned we can address the questions brought forward. We can forecast for 2019."
   ]
  },
  {
   "cell_type": "code",
   "execution_count": 4,
   "id": "1c1445d5",
   "metadata": {},
   "outputs": [
    {
     "data": {
      "text/plain": [
       "2006         12809\n",
       "2014         11942\n",
       "2016         11026\n",
       "2011         10866\n",
       "2012         10821\n",
       "2015          9925\n",
       "2013          9345\n",
       "2017          8453\n",
       "2009          8429\n",
       "2018          8354\n",
       "2005          8164\n",
       "2010          7760\n",
       "2007          7384\n",
       "2003          6466\n",
       "2008          6369\n",
       "2004          6115\n",
       "2000          5941\n",
       "2001          4859\n",
       "2002          3810\n",
       "2014          3404\n",
       "2016          2916\n",
       "2017          2548\n",
       "2015          2349\n",
       "2006          2288\n",
       "2010          2208\n",
       "2011          2121\n",
       "2013          1915\n",
       "2012          1603\n",
       "2005          1546\n",
       "2018          1472\n",
       "2009          1217\n",
       "2019          1146\n",
       "2004          1033\n",
       "2000           934\n",
       "2008           924\n",
       "2007           902\n",
       "2003           757\n",
       "2002           670\n",
       "2001           668\n",
       "2019           156\n",
       "2017-18         36\n",
       "2018-19         36\n",
       "2018-2019       18\n",
       "2017-2018       12\n",
       "2016-2017       12\n",
       "2012-2020       11\n",
       "2011-2012        9\n",
       "2014-2015        6\n",
       "2019-2020        4\n",
       "2013-2014        3\n",
       "Name: Time_Detail, dtype: int64"
      ]
     },
     "execution_count": 4,
     "metadata": {},
     "output_type": "execute_result"
    }
   ],
   "source": [
    "df[\"Time_Detail\"].value_counts()"
   ]
  },
  {
   "cell_type": "markdown",
   "id": "cb724264",
   "metadata": {},
   "source": [
    "Not every bin is refined for a particular year. More so, muliple bins exist for the sam year. This needs to be fixed "
   ]
  },
  {
   "cell_type": "code",
   "execution_count": 5,
   "id": "96680143",
   "metadata": {},
   "outputs": [],
   "source": [
    "df[\"Time_Detail\"] = df[\"Time_Detail\"].astype(str)"
   ]
  },
  {
   "cell_type": "code",
   "execution_count": 6,
   "id": "263550b1",
   "metadata": {},
   "outputs": [
    {
     "data": {
      "text/plain": [
       "2014         15346\n",
       "2006         15097\n",
       "2016         13942\n",
       "2011         12987\n",
       "2012         12424\n",
       "2015         12274\n",
       "2013         11260\n",
       "2017         11001\n",
       "2010          9968\n",
       "2018          9826\n",
       "2005          9710\n",
       "2009          9646\n",
       "2007          8286\n",
       "2008          7293\n",
       "2003          7223\n",
       "2004          7148\n",
       "2000          6875\n",
       "2001          5527\n",
       "2002          4480\n",
       "2019          1302\n",
       "2017-18         36\n",
       "2018-19         36\n",
       "2018-2019       18\n",
       "2017-2018       12\n",
       "2016-2017       12\n",
       "2012-2020       11\n",
       "2011-2012        9\n",
       "2014-2015        6\n",
       "2019-2020        4\n",
       "2013-2014        3\n",
       "Name: Time_Detail, dtype: int64"
      ]
     },
     "execution_count": 6,
     "metadata": {},
     "output_type": "execute_result"
    }
   ],
   "source": [
    "df[\"Time_Detail\"].value_counts()"
   ]
  },
  {
   "cell_type": "code",
   "execution_count": 7,
   "id": "1a3a9fab",
   "metadata": {},
   "outputs": [
    {
     "data": {
      "text/plain": [
       "Index(['2014', '2006', '2016', '2011', '2012', '2015', '2013', '2017', '2010',\n",
       "       '2018', '2005', '2009', '2007', '2008', '2003', '2004', '2000', '2001',\n",
       "       '2002', '2019', '2017-18', '2018-19', '2018-2019', '2017-2018',\n",
       "       '2016-2017', '2012-2020', '2011-2012', '2014-2015', '2019-2020',\n",
       "       '2013-2014'],\n",
       "      dtype='object')"
      ]
     },
     "execution_count": 7,
     "metadata": {},
     "output_type": "execute_result"
    }
   ],
   "source": [
    "df[\"Time_Detail\"].value_counts().index # We can just drop the instances that span two years. "
   ]
  },
  {
   "cell_type": "code",
   "execution_count": 8,
   "id": "8183d7e6",
   "metadata": {},
   "outputs": [],
   "source": [
    "mulityears = ['2018-19', '2017-18', '2018-2019', '2017-2018','2016-2017', '2012-2020', '2011-2012', '2014-2015', '2019-2020','2013-2014']"
   ]
  },
  {
   "cell_type": "code",
   "execution_count": 9,
   "id": "1dbac679",
   "metadata": {},
   "outputs": [
    {
     "data": {
      "text/plain": [
       "Int64Index([80340, 80341, 80342, 80349, 80380, 80381, 80382, 80398, 80399,\n",
       "            80400, 80543],\n",
       "           dtype='int64')"
      ]
     },
     "execution_count": 9,
     "metadata": {},
     "output_type": "execute_result"
    }
   ],
   "source": [
    "df.loc[df[\"Time_Detail\"] == '2012-2020'].index"
   ]
  },
  {
   "cell_type": "code",
   "execution_count": 10,
   "id": "19aaa39c",
   "metadata": {},
   "outputs": [],
   "source": [
    "for years in mulityears:\n",
    "    df.drop(df.loc[df[\"Time_Detail\"] == years].index , axis = 0,inplace = True)\n",
    "\n",
    "#df[\"Time_Detail\"].drop(['2012-2020', '2011-2012', '2014-2015', '2019-2020', '2013-2014'] ,axis = 0 , inplace = True)"
   ]
  },
  {
   "cell_type": "code",
   "execution_count": 11,
   "id": "0296b07b",
   "metadata": {},
   "outputs": [
    {
     "data": {
      "text/plain": [
       "2014    15346\n",
       "2006    15097\n",
       "2016    13942\n",
       "2011    12987\n",
       "2012    12424\n",
       "2015    12274\n",
       "2013    11260\n",
       "2017    11001\n",
       "2010     9968\n",
       "2018     9826\n",
       "2005     9710\n",
       "2009     9646\n",
       "2007     8286\n",
       "2008     7293\n",
       "2003     7223\n",
       "2004     7148\n",
       "2000     6875\n",
       "2001     5527\n",
       "2002     4480\n",
       "2019     1302\n",
       "Name: Time_Detail, dtype: int64"
      ]
     },
     "execution_count": 11,
     "metadata": {},
     "output_type": "execute_result"
    }
   ],
   "source": [
    "df[\"Time_Detail\"].value_counts()"
   ]
  },
  {
   "cell_type": "markdown",
   "id": "ef57d79c",
   "metadata": {},
   "source": [
    "With that out of the way we can explore the data and model. \n",
    "\n",
    "We must select a Response variable. Let's select value. \n",
    "\n",
    "Value is a continous numeric value. Since are trying to predict a value it is best to use a supervised learning method in predictions. Right now it is a great idea to start with a simple linear regression model and increase complexity \n",
    "\n",
    "Lets Split the dataset into labels and data"
   ]
  },
  {
   "cell_type": "markdown",
   "id": "49a0bf01",
   "metadata": {},
   "source": [
    "The index shouldn't be shuffled yet, we must first take out our testing and training data."
   ]
  },
  {
   "cell_type": "code",
   "execution_count": 12,
   "id": "cd86e128",
   "metadata": {},
   "outputs": [],
   "source": [
    "X = df.drop(\"Value\", axis = 1)\n",
    "y = df[\"Value\"]"
   ]
  },
  {
   "cell_type": "code",
   "execution_count": 13,
   "id": "7dd3daf0",
   "metadata": {},
   "outputs": [],
   "source": [
    "y_test = y.loc[X.loc[df[\"Time_Detail\"] == '2019'].index]\n",
    "y_train =  y.drop(X.loc[df[\"Time_Detail\"] == '2019'].index )"
   ]
  },
  {
   "cell_type": "code",
   "execution_count": 14,
   "id": "8eba78e1",
   "metadata": {},
   "outputs": [],
   "source": [
    "X_test = X.loc[ X.loc[df[\"Time_Detail\"] == '2019'].index ]\n",
    "X_train = X.loc[ X.loc[df[\"Time_Detail\"] != '2019'].index ]"
   ]
  },
  {
   "cell_type": "code",
   "execution_count": 15,
   "id": "753fc133",
   "metadata": {},
   "outputs": [
    {
     "data": {
      "text/plain": [
       "1.0"
      ]
     },
     "execution_count": 15,
     "metadata": {},
     "output_type": "execute_result"
    }
   ],
   "source": [
    "sum(X_test.index == y_test.index) / len(y_test) # Wooo! b"
   ]
  },
  {
   "cell_type": "markdown",
   "id": "39413b8f",
   "metadata": {},
   "source": [
    "With the data split we are ready for some exploration. "
   ]
  },
  {
   "cell_type": "markdown",
   "id": "7493ff75",
   "metadata": {},
   "source": [
    "# Linear Exploration "
   ]
  },
  {
   "cell_type": "code",
   "execution_count": 16,
   "id": "7d8e7ac4",
   "metadata": {},
   "outputs": [
    {
     "data": {
      "text/html": [
       "<div>\n",
       "<style scoped>\n",
       "    .dataframe tbody tr th:only-of-type {\n",
       "        vertical-align: middle;\n",
       "    }\n",
       "\n",
       "    .dataframe tbody tr th {\n",
       "        vertical-align: top;\n",
       "    }\n",
       "\n",
       "    .dataframe thead th {\n",
       "        text-align: right;\n",
       "    }\n",
       "</style>\n",
       "<table border=\"1\" class=\"dataframe\">\n",
       "  <thead>\n",
       "    <tr style=\"text-align: right;\">\n",
       "      <th></th>\n",
       "      <th>Goal</th>\n",
       "      <th>GeoAreaCode</th>\n",
       "      <th>TimePeriod</th>\n",
       "      <th>SeriesCode</th>\n",
       "      <th>SeriesDescription</th>\n",
       "      <th>Source</th>\n",
       "      <th>Nature</th>\n",
       "      <th>Reporting Type</th>\n",
       "      <th>Sex</th>\n",
       "      <th>Units</th>\n",
       "    </tr>\n",
       "  </thead>\n",
       "  <tbody>\n",
       "    <tr>\n",
       "      <th>Goal</th>\n",
       "      <td>NaN</td>\n",
       "      <td>NaN</td>\n",
       "      <td>NaN</td>\n",
       "      <td>NaN</td>\n",
       "      <td>NaN</td>\n",
       "      <td>NaN</td>\n",
       "      <td>NaN</td>\n",
       "      <td>NaN</td>\n",
       "      <td>NaN</td>\n",
       "      <td>NaN</td>\n",
       "    </tr>\n",
       "    <tr>\n",
       "      <th>GeoAreaCode</th>\n",
       "      <td>NaN</td>\n",
       "      <td>1.000000</td>\n",
       "      <td>0.014566</td>\n",
       "      <td>0.001126</td>\n",
       "      <td>-0.022776</td>\n",
       "      <td>-0.028812</td>\n",
       "      <td>0.005651</td>\n",
       "      <td>NaN</td>\n",
       "      <td>-0.000887</td>\n",
       "      <td>0.007374</td>\n",
       "    </tr>\n",
       "    <tr>\n",
       "      <th>TimePeriod</th>\n",
       "      <td>NaN</td>\n",
       "      <td>0.014566</td>\n",
       "      <td>1.000000</td>\n",
       "      <td>-0.102750</td>\n",
       "      <td>0.135094</td>\n",
       "      <td>-0.139362</td>\n",
       "      <td>-0.120190</td>\n",
       "      <td>NaN</td>\n",
       "      <td>-0.009778</td>\n",
       "      <td>-0.045911</td>\n",
       "    </tr>\n",
       "    <tr>\n",
       "      <th>SeriesCode</th>\n",
       "      <td>NaN</td>\n",
       "      <td>0.001126</td>\n",
       "      <td>-0.102750</td>\n",
       "      <td>1.000000</td>\n",
       "      <td>-0.085385</td>\n",
       "      <td>0.117533</td>\n",
       "      <td>0.043763</td>\n",
       "      <td>NaN</td>\n",
       "      <td>0.276414</td>\n",
       "      <td>-0.468219</td>\n",
       "    </tr>\n",
       "    <tr>\n",
       "      <th>SeriesDescription</th>\n",
       "      <td>NaN</td>\n",
       "      <td>-0.022776</td>\n",
       "      <td>0.135094</td>\n",
       "      <td>-0.085385</td>\n",
       "      <td>1.000000</td>\n",
       "      <td>-0.303680</td>\n",
       "      <td>-0.836120</td>\n",
       "      <td>NaN</td>\n",
       "      <td>-0.089345</td>\n",
       "      <td>-0.477208</td>\n",
       "    </tr>\n",
       "    <tr>\n",
       "      <th>Source</th>\n",
       "      <td>NaN</td>\n",
       "      <td>-0.028812</td>\n",
       "      <td>-0.139362</td>\n",
       "      <td>0.117533</td>\n",
       "      <td>-0.303680</td>\n",
       "      <td>1.000000</td>\n",
       "      <td>0.419162</td>\n",
       "      <td>NaN</td>\n",
       "      <td>0.007344</td>\n",
       "      <td>0.051302</td>\n",
       "    </tr>\n",
       "    <tr>\n",
       "      <th>Nature</th>\n",
       "      <td>NaN</td>\n",
       "      <td>0.005651</td>\n",
       "      <td>-0.120190</td>\n",
       "      <td>0.043763</td>\n",
       "      <td>-0.836120</td>\n",
       "      <td>0.419162</td>\n",
       "      <td>1.000000</td>\n",
       "      <td>NaN</td>\n",
       "      <td>0.137945</td>\n",
       "      <td>0.218194</td>\n",
       "    </tr>\n",
       "    <tr>\n",
       "      <th>Reporting Type</th>\n",
       "      <td>NaN</td>\n",
       "      <td>NaN</td>\n",
       "      <td>NaN</td>\n",
       "      <td>NaN</td>\n",
       "      <td>NaN</td>\n",
       "      <td>NaN</td>\n",
       "      <td>NaN</td>\n",
       "      <td>NaN</td>\n",
       "      <td>NaN</td>\n",
       "      <td>NaN</td>\n",
       "    </tr>\n",
       "    <tr>\n",
       "      <th>Sex</th>\n",
       "      <td>NaN</td>\n",
       "      <td>-0.000887</td>\n",
       "      <td>-0.009778</td>\n",
       "      <td>0.276414</td>\n",
       "      <td>-0.089345</td>\n",
       "      <td>0.007344</td>\n",
       "      <td>0.137945</td>\n",
       "      <td>NaN</td>\n",
       "      <td>1.000000</td>\n",
       "      <td>-0.187520</td>\n",
       "    </tr>\n",
       "    <tr>\n",
       "      <th>Units</th>\n",
       "      <td>NaN</td>\n",
       "      <td>0.007374</td>\n",
       "      <td>-0.045911</td>\n",
       "      <td>-0.468219</td>\n",
       "      <td>-0.477208</td>\n",
       "      <td>0.051302</td>\n",
       "      <td>0.218194</td>\n",
       "      <td>NaN</td>\n",
       "      <td>-0.187520</td>\n",
       "      <td>1.000000</td>\n",
       "    </tr>\n",
       "  </tbody>\n",
       "</table>\n",
       "</div>"
      ],
      "text/plain": [
       "                   Goal  GeoAreaCode  TimePeriod  SeriesCode  \\\n",
       "Goal                NaN          NaN         NaN         NaN   \n",
       "GeoAreaCode         NaN     1.000000    0.014566    0.001126   \n",
       "TimePeriod          NaN     0.014566    1.000000   -0.102750   \n",
       "SeriesCode          NaN     0.001126   -0.102750    1.000000   \n",
       "SeriesDescription   NaN    -0.022776    0.135094   -0.085385   \n",
       "Source              NaN    -0.028812   -0.139362    0.117533   \n",
       "Nature              NaN     0.005651   -0.120190    0.043763   \n",
       "Reporting Type      NaN          NaN         NaN         NaN   \n",
       "Sex                 NaN    -0.000887   -0.009778    0.276414   \n",
       "Units               NaN     0.007374   -0.045911   -0.468219   \n",
       "\n",
       "                   SeriesDescription    Source    Nature  Reporting Type  \\\n",
       "Goal                             NaN       NaN       NaN             NaN   \n",
       "GeoAreaCode                -0.022776 -0.028812  0.005651             NaN   \n",
       "TimePeriod                  0.135094 -0.139362 -0.120190             NaN   \n",
       "SeriesCode                 -0.085385  0.117533  0.043763             NaN   \n",
       "SeriesDescription           1.000000 -0.303680 -0.836120             NaN   \n",
       "Source                     -0.303680  1.000000  0.419162             NaN   \n",
       "Nature                     -0.836120  0.419162  1.000000             NaN   \n",
       "Reporting Type                   NaN       NaN       NaN             NaN   \n",
       "Sex                        -0.089345  0.007344  0.137945             NaN   \n",
       "Units                      -0.477208  0.051302  0.218194             NaN   \n",
       "\n",
       "                        Sex     Units  \n",
       "Goal                    NaN       NaN  \n",
       "GeoAreaCode       -0.000887  0.007374  \n",
       "TimePeriod        -0.009778 -0.045911  \n",
       "SeriesCode         0.276414 -0.468219  \n",
       "SeriesDescription -0.089345 -0.477208  \n",
       "Source             0.007344  0.051302  \n",
       "Nature             0.137945  0.218194  \n",
       "Reporting Type          NaN       NaN  \n",
       "Sex                1.000000 -0.187520  \n",
       "Units             -0.187520  1.000000  "
      ]
     },
     "execution_count": 16,
     "metadata": {},
     "output_type": "execute_result"
    }
   ],
   "source": [
    "X_train.corr()"
   ]
  },
  {
   "cell_type": "markdown",
   "id": "0cd59307",
   "metadata": {},
   "source": [
    "Not many things have a high linear correlation. Where this is a correlation higher than 10% it appears to be on ordinal variables that describe our seriesCode. \n",
    "\n",
    "The series code is intended to tell us which indicator is being measured. \n",
    "\n",
    "Our data set isn't the largest and has a decent amount of features, because of this I think we should use a regularized linear model. Lasso regression uses the $L_1$ norm when optimizing our objective function, thus I will use it as it will automatically weight useless variables to zero. \n",
    "\n",
    "Lasso regression is doesn't do well when features represent the same thing so I will look at our VIF function to measure similarity. "
   ]
  },
  {
   "cell_type": "code",
   "execution_count": 17,
   "id": "4cacd49b",
   "metadata": {},
   "outputs": [
    {
     "data": {
      "text/html": [
       "<div>\n",
       "<style scoped>\n",
       "    .dataframe tbody tr th:only-of-type {\n",
       "        vertical-align: middle;\n",
       "    }\n",
       "\n",
       "    .dataframe tbody tr th {\n",
       "        vertical-align: top;\n",
       "    }\n",
       "\n",
       "    .dataframe thead th {\n",
       "        text-align: right;\n",
       "    }\n",
       "</style>\n",
       "<table border=\"1\" class=\"dataframe\">\n",
       "  <thead>\n",
       "    <tr style=\"text-align: right;\">\n",
       "      <th></th>\n",
       "      <th>Goal</th>\n",
       "      <th>Target</th>\n",
       "      <th>Indicator</th>\n",
       "      <th>GeoAreaCode</th>\n",
       "      <th>GeoAreaName</th>\n",
       "      <th>TimePeriod</th>\n",
       "      <th>Value</th>\n",
       "      <th>Time_Detail</th>\n",
       "      <th>SeriesCode</th>\n",
       "      <th>SeriesDescription</th>\n",
       "      <th>Source</th>\n",
       "      <th>Nature</th>\n",
       "      <th>Reporting Type</th>\n",
       "      <th>Sex</th>\n",
       "      <th>Units</th>\n",
       "    </tr>\n",
       "  </thead>\n",
       "  <tbody>\n",
       "    <tr>\n",
       "      <th>0</th>\n",
       "      <td>4</td>\n",
       "      <td>4.1</td>\n",
       "      <td>4.1.1</td>\n",
       "      <td>4</td>\n",
       "      <td>Afghanistan</td>\n",
       "      <td>2013</td>\n",
       "      <td>11.0</td>\n",
       "      <td>2013</td>\n",
       "      <td>25.0</td>\n",
       "      <td>16.0</td>\n",
       "      <td>168.0</td>\n",
       "      <td>0.0</td>\n",
       "      <td>0.0</td>\n",
       "      <td>0.0</td>\n",
       "      <td>1.0</td>\n",
       "    </tr>\n",
       "    <tr>\n",
       "      <th>1</th>\n",
       "      <td>4</td>\n",
       "      <td>4.1</td>\n",
       "      <td>4.1.1</td>\n",
       "      <td>4</td>\n",
       "      <td>Afghanistan</td>\n",
       "      <td>2013</td>\n",
       "      <td>13.0</td>\n",
       "      <td>2013</td>\n",
       "      <td>25.0</td>\n",
       "      <td>16.0</td>\n",
       "      <td>167.0</td>\n",
       "      <td>0.0</td>\n",
       "      <td>0.0</td>\n",
       "      <td>0.0</td>\n",
       "      <td>1.0</td>\n",
       "    </tr>\n",
       "    <tr>\n",
       "      <th>2</th>\n",
       "      <td>4</td>\n",
       "      <td>4.1</td>\n",
       "      <td>4.1.1</td>\n",
       "      <td>4</td>\n",
       "      <td>Afghanistan</td>\n",
       "      <td>2016</td>\n",
       "      <td>21.5</td>\n",
       "      <td>2016</td>\n",
       "      <td>25.0</td>\n",
       "      <td>16.0</td>\n",
       "      <td>166.0</td>\n",
       "      <td>0.0</td>\n",
       "      <td>0.0</td>\n",
       "      <td>2.0</td>\n",
       "      <td>1.0</td>\n",
       "    </tr>\n",
       "    <tr>\n",
       "      <th>3</th>\n",
       "      <td>4</td>\n",
       "      <td>4.1</td>\n",
       "      <td>4.1.1</td>\n",
       "      <td>4</td>\n",
       "      <td>Afghanistan</td>\n",
       "      <td>2016</td>\n",
       "      <td>22.5</td>\n",
       "      <td>2016</td>\n",
       "      <td>25.0</td>\n",
       "      <td>16.0</td>\n",
       "      <td>166.0</td>\n",
       "      <td>0.0</td>\n",
       "      <td>0.0</td>\n",
       "      <td>1.0</td>\n",
       "      <td>1.0</td>\n",
       "    </tr>\n",
       "    <tr>\n",
       "      <th>4</th>\n",
       "      <td>4</td>\n",
       "      <td>4.1</td>\n",
       "      <td>4.1.1</td>\n",
       "      <td>4</td>\n",
       "      <td>Afghanistan</td>\n",
       "      <td>2016</td>\n",
       "      <td>22.0</td>\n",
       "      <td>2016</td>\n",
       "      <td>25.0</td>\n",
       "      <td>16.0</td>\n",
       "      <td>166.0</td>\n",
       "      <td>0.0</td>\n",
       "      <td>0.0</td>\n",
       "      <td>0.0</td>\n",
       "      <td>1.0</td>\n",
       "    </tr>\n",
       "  </tbody>\n",
       "</table>\n",
       "</div>"
      ],
      "text/plain": [
       "   Goal Target Indicator  GeoAreaCode  GeoAreaName  TimePeriod  Value  \\\n",
       "0     4    4.1     4.1.1            4  Afghanistan        2013   11.0   \n",
       "1     4    4.1     4.1.1            4  Afghanistan        2013   13.0   \n",
       "2     4    4.1     4.1.1            4  Afghanistan        2016   21.5   \n",
       "3     4    4.1     4.1.1            4  Afghanistan        2016   22.5   \n",
       "4     4    4.1     4.1.1            4  Afghanistan        2016   22.0   \n",
       "\n",
       "  Time_Detail  SeriesCode  SeriesDescription  Source  Nature  Reporting Type  \\\n",
       "0        2013        25.0               16.0   168.0     0.0             0.0   \n",
       "1        2013        25.0               16.0   167.0     0.0             0.0   \n",
       "2        2016        25.0               16.0   166.0     0.0             0.0   \n",
       "3        2016        25.0               16.0   166.0     0.0             0.0   \n",
       "4        2016        25.0               16.0   166.0     0.0             0.0   \n",
       "\n",
       "   Sex  Units  \n",
       "0  0.0    1.0  \n",
       "1  0.0    1.0  \n",
       "2  2.0    1.0  \n",
       "3  1.0    1.0  \n",
       "4  0.0    1.0  "
      ]
     },
     "execution_count": 17,
     "metadata": {},
     "output_type": "execute_result"
    }
   ],
   "source": [
    "df.head()"
   ]
  },
  {
   "cell_type": "code",
   "execution_count": 18,
   "id": "1c6805c0",
   "metadata": {},
   "outputs": [
    {
     "data": {
      "text/plain": [
       "Index(['Goal', 'Target', 'Indicator', 'GeoAreaCode', 'GeoAreaName',\n",
       "       'TimePeriod', 'Value', 'Time_Detail', 'SeriesCode', 'SeriesDescription',\n",
       "       'Source', 'Nature', 'Reporting Type', 'Sex', 'Units'],\n",
       "      dtype='object')"
      ]
     },
     "execution_count": 18,
     "metadata": {},
     "output_type": "execute_result"
    }
   ],
   "source": [
    "df.columns"
   ]
  },
  {
   "cell_type": "code",
   "execution_count": 19,
   "id": "6866dec6",
   "metadata": {},
   "outputs": [],
   "source": [
    "numerical = df.drop(['Goal', 'Target', 'Indicator', \"GeoAreaName\",\"TimePeriod\", \"SeriesDescription\", \"Value\", \"Units\"] ,axis =1 )"
   ]
  },
  {
   "cell_type": "code",
   "execution_count": 20,
   "id": "28b98f03",
   "metadata": {},
   "outputs": [],
   "source": [
    "numerical = numerical.astype(float)"
   ]
  },
  {
   "cell_type": "code",
   "execution_count": 21,
   "id": "b9f40f6b",
   "metadata": {},
   "outputs": [
    {
     "name": "stdout",
     "output_type": "stream",
     "text": [
      "          feature        VIF\n",
      "0     GeoAreaCode   3.514346\n",
      "1     Time_Detail  53.140091\n",
      "2      SeriesCode   7.153267\n",
      "3          Source  57.595752\n",
      "4          Nature   4.802639\n",
      "5  Reporting Type        NaN\n",
      "6             Sex   1.940683\n"
     ]
    },
    {
     "name": "stderr",
     "output_type": "stream",
     "text": [
      "/opt/tljh/user/lib/python3.7/site-packages/statsmodels/regression/linear_model.py:1717: RuntimeWarning: invalid value encountered in double_scalars\n",
      "  return 1 - self.ssr/self.uncentered_tss\n"
     ]
    }
   ],
   "source": [
    "from statsmodels.stats.outliers_influence import variance_inflation_factor\n",
    "#Create a df to conviently display the info\n",
    "def vif(data):\n",
    "    vif_data = pd.DataFrame()\n",
    "    vif_data[\"feature\"] = data.columns\n",
    "    vif_data[\"VIF\"] = [variance_inflation_factor(data.values , i)for i in range(len(data.columns))]\n",
    "    print(vif_data)\n",
    "vif(numerical)"
   ]
  },
  {
   "cell_type": "markdown",
   "id": "7dc8d50b",
   "metadata": {},
   "source": [
    "Anything over 10 has a high colinearity with the other variables. I will drop the 2 highest scores and the Nan. "
   ]
  },
  {
   "cell_type": "code",
   "execution_count": 22,
   "id": "4f1a72d2",
   "metadata": {},
   "outputs": [],
   "source": [
    "numerical.drop([\"Time_Detail\", \"Source\",  \"Reporting Type\"], inplace =True, axis =1 )"
   ]
  },
  {
   "cell_type": "code",
   "execution_count": 23,
   "id": "eeebc845",
   "metadata": {},
   "outputs": [
    {
     "name": "stdout",
     "output_type": "stream",
     "text": [
      "       feature       VIF\n",
      "0  GeoAreaCode  2.741602\n",
      "1   SeriesCode  4.147030\n",
      "2       Nature  3.101338\n",
      "3          Sex  1.921481\n"
     ]
    }
   ],
   "source": [
    "vif(numerical)"
   ]
  },
  {
   "cell_type": "markdown",
   "id": "31243aed",
   "metadata": {},
   "source": [
    "Like that our varibales no longer describe each other at a high degree. \n",
    "\n",
    "Sinc we intend to use a regularized model we must scale the features, as regularized models are sensitive to scales. "
   ]
  },
  {
   "cell_type": "code",
   "execution_count": 24,
   "id": "d1e2e1d3",
   "metadata": {},
   "outputs": [],
   "source": [
    "def modeling_features(df):\n",
    "    return df.drop([\"SeriesDescription\",\"Time_Detail\", \"Source\", \"Reporting Type\", 'Goal', 'Target', 'Indicator', \"GeoAreaName\",\"TimePeriod\", \"Units\"], axis = 1)   "
   ]
  },
  {
   "cell_type": "code",
   "execution_count": 25,
   "id": "2edbe5fb",
   "metadata": {},
   "outputs": [
    {
     "data": {
      "text/html": [
       "<div>\n",
       "<style scoped>\n",
       "    .dataframe tbody tr th:only-of-type {\n",
       "        vertical-align: middle;\n",
       "    }\n",
       "\n",
       "    .dataframe tbody tr th {\n",
       "        vertical-align: top;\n",
       "    }\n",
       "\n",
       "    .dataframe thead th {\n",
       "        text-align: right;\n",
       "    }\n",
       "</style>\n",
       "<table border=\"1\" class=\"dataframe\">\n",
       "  <thead>\n",
       "    <tr style=\"text-align: right;\">\n",
       "      <th></th>\n",
       "      <th>Goal</th>\n",
       "      <th>Target</th>\n",
       "      <th>Indicator</th>\n",
       "      <th>GeoAreaCode</th>\n",
       "      <th>GeoAreaName</th>\n",
       "      <th>TimePeriod</th>\n",
       "      <th>Time_Detail</th>\n",
       "      <th>SeriesCode</th>\n",
       "      <th>SeriesDescription</th>\n",
       "      <th>Source</th>\n",
       "      <th>Nature</th>\n",
       "      <th>Reporting Type</th>\n",
       "      <th>Sex</th>\n",
       "      <th>Units</th>\n",
       "    </tr>\n",
       "  </thead>\n",
       "  <tbody>\n",
       "    <tr>\n",
       "      <th>0</th>\n",
       "      <td>4</td>\n",
       "      <td>4.1</td>\n",
       "      <td>4.1.1</td>\n",
       "      <td>4</td>\n",
       "      <td>Afghanistan</td>\n",
       "      <td>2013</td>\n",
       "      <td>2013</td>\n",
       "      <td>25.0</td>\n",
       "      <td>16.0</td>\n",
       "      <td>168.0</td>\n",
       "      <td>0.0</td>\n",
       "      <td>0.0</td>\n",
       "      <td>0.0</td>\n",
       "      <td>1.0</td>\n",
       "    </tr>\n",
       "    <tr>\n",
       "      <th>1</th>\n",
       "      <td>4</td>\n",
       "      <td>4.1</td>\n",
       "      <td>4.1.1</td>\n",
       "      <td>4</td>\n",
       "      <td>Afghanistan</td>\n",
       "      <td>2013</td>\n",
       "      <td>2013</td>\n",
       "      <td>25.0</td>\n",
       "      <td>16.0</td>\n",
       "      <td>167.0</td>\n",
       "      <td>0.0</td>\n",
       "      <td>0.0</td>\n",
       "      <td>0.0</td>\n",
       "      <td>1.0</td>\n",
       "    </tr>\n",
       "    <tr>\n",
       "      <th>2</th>\n",
       "      <td>4</td>\n",
       "      <td>4.1</td>\n",
       "      <td>4.1.1</td>\n",
       "      <td>4</td>\n",
       "      <td>Afghanistan</td>\n",
       "      <td>2016</td>\n",
       "      <td>2016</td>\n",
       "      <td>25.0</td>\n",
       "      <td>16.0</td>\n",
       "      <td>166.0</td>\n",
       "      <td>0.0</td>\n",
       "      <td>0.0</td>\n",
       "      <td>2.0</td>\n",
       "      <td>1.0</td>\n",
       "    </tr>\n",
       "    <tr>\n",
       "      <th>3</th>\n",
       "      <td>4</td>\n",
       "      <td>4.1</td>\n",
       "      <td>4.1.1</td>\n",
       "      <td>4</td>\n",
       "      <td>Afghanistan</td>\n",
       "      <td>2016</td>\n",
       "      <td>2016</td>\n",
       "      <td>25.0</td>\n",
       "      <td>16.0</td>\n",
       "      <td>166.0</td>\n",
       "      <td>0.0</td>\n",
       "      <td>0.0</td>\n",
       "      <td>1.0</td>\n",
       "      <td>1.0</td>\n",
       "    </tr>\n",
       "    <tr>\n",
       "      <th>4</th>\n",
       "      <td>4</td>\n",
       "      <td>4.1</td>\n",
       "      <td>4.1.1</td>\n",
       "      <td>4</td>\n",
       "      <td>Afghanistan</td>\n",
       "      <td>2016</td>\n",
       "      <td>2016</td>\n",
       "      <td>25.0</td>\n",
       "      <td>16.0</td>\n",
       "      <td>166.0</td>\n",
       "      <td>0.0</td>\n",
       "      <td>0.0</td>\n",
       "      <td>0.0</td>\n",
       "      <td>1.0</td>\n",
       "    </tr>\n",
       "    <tr>\n",
       "      <th>...</th>\n",
       "      <td>...</td>\n",
       "      <td>...</td>\n",
       "      <td>...</td>\n",
       "      <td>...</td>\n",
       "      <td>...</td>\n",
       "      <td>...</td>\n",
       "      <td>...</td>\n",
       "      <td>...</td>\n",
       "      <td>...</td>\n",
       "      <td>...</td>\n",
       "      <td>...</td>\n",
       "      <td>...</td>\n",
       "      <td>...</td>\n",
       "      <td>...</td>\n",
       "    </tr>\n",
       "    <tr>\n",
       "      <th>191757</th>\n",
       "      <td>4</td>\n",
       "      <td>4.c</td>\n",
       "      <td>4.c.1</td>\n",
       "      <td>894</td>\n",
       "      <td>Zambia</td>\n",
       "      <td>2012</td>\n",
       "      <td>2012</td>\n",
       "      <td>28.0</td>\n",
       "      <td>19.0</td>\n",
       "      <td>300.0</td>\n",
       "      <td>2.0</td>\n",
       "      <td>0.0</td>\n",
       "      <td>1.0</td>\n",
       "      <td>1.0</td>\n",
       "    </tr>\n",
       "    <tr>\n",
       "      <th>191758</th>\n",
       "      <td>4</td>\n",
       "      <td>4.c</td>\n",
       "      <td>4.c.1</td>\n",
       "      <td>894</td>\n",
       "      <td>Zambia</td>\n",
       "      <td>2012</td>\n",
       "      <td>2012</td>\n",
       "      <td>28.0</td>\n",
       "      <td>19.0</td>\n",
       "      <td>300.0</td>\n",
       "      <td>2.0</td>\n",
       "      <td>0.0</td>\n",
       "      <td>2.0</td>\n",
       "      <td>1.0</td>\n",
       "    </tr>\n",
       "    <tr>\n",
       "      <th>191759</th>\n",
       "      <td>4</td>\n",
       "      <td>4.c</td>\n",
       "      <td>4.c.1</td>\n",
       "      <td>894</td>\n",
       "      <td>Zambia</td>\n",
       "      <td>2017</td>\n",
       "      <td>2017</td>\n",
       "      <td>28.0</td>\n",
       "      <td>19.0</td>\n",
       "      <td>300.0</td>\n",
       "      <td>0.0</td>\n",
       "      <td>0.0</td>\n",
       "      <td>2.0</td>\n",
       "      <td>1.0</td>\n",
       "    </tr>\n",
       "    <tr>\n",
       "      <th>191760</th>\n",
       "      <td>4</td>\n",
       "      <td>4.c</td>\n",
       "      <td>4.c.1</td>\n",
       "      <td>894</td>\n",
       "      <td>Zambia</td>\n",
       "      <td>2017</td>\n",
       "      <td>2017</td>\n",
       "      <td>28.0</td>\n",
       "      <td>19.0</td>\n",
       "      <td>300.0</td>\n",
       "      <td>0.0</td>\n",
       "      <td>0.0</td>\n",
       "      <td>0.0</td>\n",
       "      <td>1.0</td>\n",
       "    </tr>\n",
       "    <tr>\n",
       "      <th>191761</th>\n",
       "      <td>4</td>\n",
       "      <td>4.c</td>\n",
       "      <td>4.c.1</td>\n",
       "      <td>894</td>\n",
       "      <td>Zambia</td>\n",
       "      <td>2017</td>\n",
       "      <td>2017</td>\n",
       "      <td>28.0</td>\n",
       "      <td>19.0</td>\n",
       "      <td>300.0</td>\n",
       "      <td>0.0</td>\n",
       "      <td>0.0</td>\n",
       "      <td>1.0</td>\n",
       "      <td>1.0</td>\n",
       "    </tr>\n",
       "  </tbody>\n",
       "</table>\n",
       "<p>190313 rows × 14 columns</p>\n",
       "</div>"
      ],
      "text/plain": [
       "        Goal Target Indicator  GeoAreaCode  GeoAreaName  TimePeriod  \\\n",
       "0          4    4.1     4.1.1            4  Afghanistan        2013   \n",
       "1          4    4.1     4.1.1            4  Afghanistan        2013   \n",
       "2          4    4.1     4.1.1            4  Afghanistan        2016   \n",
       "3          4    4.1     4.1.1            4  Afghanistan        2016   \n",
       "4          4    4.1     4.1.1            4  Afghanistan        2016   \n",
       "...      ...    ...       ...          ...          ...         ...   \n",
       "191757     4    4.c     4.c.1          894       Zambia        2012   \n",
       "191758     4    4.c     4.c.1          894       Zambia        2012   \n",
       "191759     4    4.c     4.c.1          894       Zambia        2017   \n",
       "191760     4    4.c     4.c.1          894       Zambia        2017   \n",
       "191761     4    4.c     4.c.1          894       Zambia        2017   \n",
       "\n",
       "       Time_Detail  SeriesCode  SeriesDescription  Source  Nature  \\\n",
       "0             2013        25.0               16.0   168.0     0.0   \n",
       "1             2013        25.0               16.0   167.0     0.0   \n",
       "2             2016        25.0               16.0   166.0     0.0   \n",
       "3             2016        25.0               16.0   166.0     0.0   \n",
       "4             2016        25.0               16.0   166.0     0.0   \n",
       "...            ...         ...                ...     ...     ...   \n",
       "191757        2012        28.0               19.0   300.0     2.0   \n",
       "191758        2012        28.0               19.0   300.0     2.0   \n",
       "191759        2017        28.0               19.0   300.0     0.0   \n",
       "191760        2017        28.0               19.0   300.0     0.0   \n",
       "191761        2017        28.0               19.0   300.0     0.0   \n",
       "\n",
       "        Reporting Type  Sex  Units  \n",
       "0                  0.0  0.0    1.0  \n",
       "1                  0.0  0.0    1.0  \n",
       "2                  0.0  2.0    1.0  \n",
       "3                  0.0  1.0    1.0  \n",
       "4                  0.0  0.0    1.0  \n",
       "...                ...  ...    ...  \n",
       "191757             0.0  1.0    1.0  \n",
       "191758             0.0  2.0    1.0  \n",
       "191759             0.0  2.0    1.0  \n",
       "191760             0.0  0.0    1.0  \n",
       "191761             0.0  1.0    1.0  \n",
       "\n",
       "[190313 rows x 14 columns]"
      ]
     },
     "execution_count": 25,
     "metadata": {},
     "output_type": "execute_result"
    }
   ],
   "source": [
    "X_train"
   ]
  },
  {
   "cell_type": "code",
   "execution_count": 26,
   "id": "cf27d0d9",
   "metadata": {},
   "outputs": [],
   "source": [
    "X_train = modeling_features(X_train)"
   ]
  },
  {
   "cell_type": "code",
   "execution_count": 27,
   "id": "39a12a6b",
   "metadata": {},
   "outputs": [],
   "source": [
    "X_test = modeling_features(X_test)"
   ]
  },
  {
   "cell_type": "markdown",
   "id": "872ddae7",
   "metadata": {},
   "source": [
    "# Modeling\n",
    "\n",
    "Lets do a quick grid search to determine the best regularization parameter. "
   ]
  },
  {
   "cell_type": "code",
   "execution_count": 28,
   "id": "6e4701c6",
   "metadata": {},
   "outputs": [
    {
     "data": {
      "text/plain": [
       "dict_keys(['alpha', 'copy_X', 'fit_intercept', 'max_iter', 'normalize', 'positive', 'precompute', 'random_state', 'selection', 'tol', 'warm_start'])"
      ]
     },
     "execution_count": 28,
     "metadata": {},
     "output_type": "execute_result"
    }
   ],
   "source": [
    "from sklearn.model_selection import GridSearchCV\n",
    "from sklearn.linear_model import Lasso\n",
    "lasso_reg = Lasso() \n",
    "lasso_reg.get_params().keys()"
   ]
  },
  {
   "cell_type": "code",
   "execution_count": 29,
   "id": "fe3e23f9",
   "metadata": {},
   "outputs": [
    {
     "data": {
      "text/plain": [
       "GridSearchCV(cv=5, estimator=Lasso(),\n",
       "             param_grid=[{'alpha': [0.01, 0.1, 0.25, 0.5, 0.75, 0.99]}],\n",
       "             return_train_score=True, scoring='neg_mean_squared_error')"
      ]
     },
     "execution_count": 29,
     "metadata": {},
     "output_type": "execute_result"
    }
   ],
   "source": [
    "\n",
    "param_grid = [\n",
    "    {'alpha': [.01, .1, .25, .5, .75, .99]}]\n",
    "\n",
    "\n",
    "\n",
    "\n",
    "\n",
    "grid_search = GridSearchCV(lasso_reg, param_grid, cv=5,\n",
    "                           scoring='neg_mean_squared_error',\n",
    "                           return_train_score=True)\n",
    "\n",
    "grid_search.fit(X_train, y_train)"
   ]
  },
  {
   "cell_type": "code",
   "execution_count": 30,
   "id": "48953779",
   "metadata": {},
   "outputs": [
    {
     "data": {
      "text/plain": [
       "{'alpha': 0.99}"
      ]
     },
     "execution_count": 30,
     "metadata": {},
     "output_type": "execute_result"
    }
   ],
   "source": [
    "grid_search.best_params_"
   ]
  },
  {
   "cell_type": "code",
   "execution_count": 31,
   "id": "b5a85b15",
   "metadata": {},
   "outputs": [
    {
     "data": {
      "text/plain": [
       "Lasso(alpha=0.1)"
      ]
     },
     "execution_count": 31,
     "metadata": {},
     "output_type": "execute_result"
    }
   ],
   "source": [
    "lasso_reg = Lasso(alpha=0.1) \n",
    "lasso_reg.fit(X_train, y_train)"
   ]
  },
  {
   "cell_type": "code",
   "execution_count": 32,
   "id": "e2538770",
   "metadata": {},
   "outputs": [
    {
     "data": {
      "text/plain": [
       "39.44143672452898"
      ]
     },
     "execution_count": 32,
     "metadata": {},
     "output_type": "execute_result"
    }
   ],
   "source": [
    "from sklearn.metrics import mean_squared_error\n",
    "import numpy as np\n",
    "#We make out final model\n",
    "y_predictions = lasso_reg.predict(X_train)\n",
    "\n",
    "final_mse = mean_squared_error(y_train, y_predictions)\n",
    "final_rmse = np.sqrt(final_mse)\n",
    "final_rmse"
   ]
  },
  {
   "cell_type": "code",
   "execution_count": 33,
   "id": "f8efc0cf",
   "metadata": {},
   "outputs": [
    {
     "data": {
      "text/plain": [
       "count    190313.000000\n",
       "mean         45.361855\n",
       "std          42.444991\n",
       "min           0.000000\n",
       "25%           1.012320\n",
       "50%          42.592290\n",
       "75%          89.781460\n",
       "max        1632.065770\n",
       "Name: Value, dtype: float64"
      ]
     },
     "execution_count": 33,
     "metadata": {},
     "output_type": "execute_result"
    }
   ],
   "source": [
    "y_train.describe()"
   ]
  },
  {
   "cell_type": "markdown",
   "id": "2e868f26",
   "metadata": {},
   "source": [
    "Considering that the labels have an std of 42, our model doesn't perform too bad. "
   ]
  },
  {
   "cell_type": "code",
   "execution_count": 37,
   "id": "3e45282d",
   "metadata": {},
   "outputs": [
    {
     "data": {
      "text/plain": [
       "array([ 0,  1, -6,  3])"
      ]
     },
     "execution_count": 37,
     "metadata": {},
     "output_type": "execute_result"
    }
   ],
   "source": [
    "lasso_reg.coef_.astype(int)"
   ]
  },
  {
   "cell_type": "code",
   "execution_count": 35,
   "id": "3fed06c0",
   "metadata": {},
   "outputs": [
    {
     "data": {
      "text/plain": [
       "Index(['GeoAreaCode', 'SeriesCode', 'Nature', 'Sex'], dtype='object')"
      ]
     },
     "execution_count": 35,
     "metadata": {},
     "output_type": "execute_result"
    }
   ],
   "source": [
    "X_train.columns"
   ]
  },
  {
   "cell_type": "markdown",
   "id": "23f8bf20",
   "metadata": {},
   "source": [
    "To my suprise the model gives no weight to GeoAreaCode\n",
    "\n",
    "Unfortunetly the modeling didn't give too much information. Series code can be valuable, it can indicate that our value increases by what we are measuring One-hot-encoding would be valuable for this but time does not permit it. \n",
    "\n",
    "Nature tells us what the data is. Whether it is country, country adjusted, or Estimated data. The data source causes our value to decrease. \n",
    "\n",
    "Lastly, Sex is the feature that makes most sense in this data. Many nations still suffer from Gender norms, and it shows in this data, the ordinal endoder set Male as 2, thus male adds the most to our value predictions"
   ]
  },
  {
   "cell_type": "markdown",
   "id": "5115f4b2",
   "metadata": {},
   "source": [
    "# Predicting on 2019"
   ]
  },
  {
   "cell_type": "code",
   "execution_count": 39,
   "id": "7f03b9b5",
   "metadata": {},
   "outputs": [
    {
     "data": {
      "text/plain": [
       "30.563854948566036"
      ]
     },
     "execution_count": 39,
     "metadata": {},
     "output_type": "execute_result"
    }
   ],
   "source": [
    "y_test_pred = lasso_reg.predict(X_test)\n",
    "final_mse = mean_squared_error(y_test,y_test_pred)\n",
    "final_rmse = np.sqrt(final_mse)\n",
    "final_rmse"
   ]
  },
  {
   "cell_type": "code",
   "execution_count": 40,
   "id": "a2c64da5",
   "metadata": {},
   "outputs": [
    {
     "data": {
      "text/plain": [
       "count    1302.000000\n",
       "mean       38.183463\n",
       "std        29.181939\n",
       "min         0.000000\n",
       "25%        13.174820\n",
       "50%        33.684435\n",
       "75%        57.078592\n",
       "max       100.000000\n",
       "Name: Value, dtype: float64"
      ]
     },
     "execution_count": 40,
     "metadata": {},
     "output_type": "execute_result"
    }
   ],
   "source": [
    "y_test.describe()"
   ]
  },
  {
   "cell_type": "markdown",
   "id": "713abe83",
   "metadata": {},
   "source": [
    "Our model generalized well when comparing to the standard deviation but is not the most reliable metric. Too much time was spent on cleaning and understaning the data.  "
   ]
  }
 ],
 "metadata": {
  "kernelspec": {
   "display_name": "Python 3",
   "language": "python",
   "name": "python3"
  },
  "language_info": {
   "codemirror_mode": {
    "name": "ipython",
    "version": 3
   },
   "file_extension": ".py",
   "mimetype": "text/x-python",
   "name": "python",
   "nbconvert_exporter": "python",
   "pygments_lexer": "ipython3",
   "version": "3.7.3"
  }
 },
 "nbformat": 4,
 "nbformat_minor": 5
}
